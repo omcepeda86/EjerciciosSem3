{
  "nbformat": 4,
  "nbformat_minor": 0,
  "metadata": {
    "kernelspec": {
      "display_name": "Python 3",
      "language": "python",
      "name": "python3"
    },
    "language_info": {
      "codemirror_mode": {
        "name": "ipython",
        "version": 3
      },
      "file_extension": ".py",
      "mimetype": "text/x-python",
      "name": "python",
      "nbconvert_exporter": "python",
      "pygments_lexer": "ipython3",
      "version": "3.7.6"
    },
    "colab": {
      "name": "E13-ClassHomeworksAnalysis.ipynb",
      "provenance": [],
      "collapsed_sections": []
    }
  },
  "cells": [
    {
      "cell_type": "markdown",
      "metadata": {
        "id": "bGrhJjGW4E6u",
        "colab_type": "text"
      },
      "source": [
        "# Exercise 13\n",
        "\n",
        "## Analyze class homeworks\n",
        "\n",
        "Carga de la información de la base de textos de tareas"
      ]
    },
    {
      "cell_type": "markdown",
      "metadata": {
        "id": "SSe7OX8letYZ",
        "colab_type": "text"
      },
      "source": [
        "## Integrantes\n",
        "\n",
        "Camilo Angarita 201111642\\\n",
        "Julian Velasquez 201014210\\\n",
        "Oscar Mauricio Cepeda 201123181\\\n",
        "Juan Camilo Marín 201412568"
      ]
    },
    {
      "cell_type": "code",
      "metadata": {
        "id": "Q2nKk-Ts4ufz",
        "colab_type": "code",
        "colab": {
          "base_uri": "https://localhost:8080/",
          "height": 122
        },
        "outputId": "7856ce07-46f6-460b-df38-e5b1076c0a14"
      },
      "source": [
        "from google.colab import drive\n",
        "drive.mount('/content/drive')"
      ],
      "execution_count": 3,
      "outputs": [
        {
          "output_type": "stream",
          "text": [
            "Go to this URL in a browser: https://accounts.google.com/o/oauth2/auth?client_id=947318989803-6bn6qk8qdgf4n4g3pfee6491hc0brc4i.apps.googleusercontent.com&redirect_uri=urn%3aietf%3awg%3aoauth%3a2.0%3aoob&response_type=code&scope=email%20https%3a%2f%2fwww.googleapis.com%2fauth%2fdocs.test%20https%3a%2f%2fwww.googleapis.com%2fauth%2fdrive%20https%3a%2f%2fwww.googleapis.com%2fauth%2fdrive.photos.readonly%20https%3a%2f%2fwww.googleapis.com%2fauth%2fpeopleapi.readonly\n",
            "\n",
            "Enter your authorization code:\n",
            "··········\n",
            "Mounted at /content/drive\n"
          ],
          "name": "stdout"
        }
      ]
    },
    {
      "cell_type": "markdown",
      "metadata": {
        "id": "7DfbaHeNerqq",
        "colab_type": "text"
      },
      "source": [
        ""
      ]
    },
    {
      "cell_type": "code",
      "metadata": {
        "id": "nOQdqZ-55bB5",
        "colab_type": "code",
        "colab": {
          "base_uri": "https://localhost:8080/",
          "height": 187
        },
        "outputId": "96461767-74d2-41d0-d215-7fdcd57e81e0"
      },
      "source": [
        "import os\n",
        "os.listdir('/content/drive/My Drive/Colab Notebooks/Herramientas avanzadas')"
      ],
      "execution_count": 4,
      "outputs": [
        {
          "output_type": "execute_result",
          "data": {
            "text/plain": [
              "['14-IntroductionDeepLearningMLP.ipynb',\n",
              " 'Consolidado_respuestas_escribir_v2.xlsx',\n",
              " 'E15-MLP.ipynb',\n",
              " '16-RecurrentNeuralNetworks_LSTM.ipynb',\n",
              " 'E14-LSTM.ipynb',\n",
              " 'P3-MovieGenrePrediction1.ipynb',\n",
              " 'P3-MovieGenrePrediction CA12.ipynb',\n",
              " '15-DeepLearning_keras.ipynb',\n",
              " 'P3-MovieGenrePrediction CA11.ipynb',\n",
              " 'E13-ClassHomeworksAnalysis.ipynb']"
            ]
          },
          "metadata": {
            "tags": []
          },
          "execution_count": 4
        }
      ]
    },
    {
      "cell_type": "code",
      "metadata": {
        "id": "X4OoG8WF4E6v",
        "colab_type": "code",
        "colab": {}
      },
      "source": [
        "# lectura pandas\n",
        "import pandas as pd"
      ],
      "execution_count": 5,
      "outputs": []
    },
    {
      "cell_type": "code",
      "metadata": {
        "id": "AbAmURIag6q8",
        "colab_type": "code",
        "colab": {
          "base_uri": "https://localhost:8080/",
          "height": 391
        },
        "outputId": "770c332a-65f7-4ac7-a1a0-784772b8b3fc"
      },
      "source": [
        "# lectua de la base de datos de tareas\n",
        "data = pd.read_excel('/content/drive/My Drive/Colab Notebooks/Herramientas avanzadas/Consolidado_respuestas_escribir_v2.xlsx')\n",
        "data.head()\n",
        "#data.tail()"
      ],
      "execution_count": 7,
      "outputs": [
        {
          "output_type": "execute_result",
          "data": {
            "text/html": [
              "<div>\n",
              "<style scoped>\n",
              "    .dataframe tbody tr th:only-of-type {\n",
              "        vertical-align: middle;\n",
              "    }\n",
              "\n",
              "    .dataframe tbody tr th {\n",
              "        vertical-align: top;\n",
              "    }\n",
              "\n",
              "    .dataframe thead th {\n",
              "        text-align: right;\n",
              "    }\n",
              "</style>\n",
              "<table border=\"1\" class=\"dataframe\">\n",
              "  <thead>\n",
              "    <tr style=\"text-align: right;\">\n",
              "      <th></th>\n",
              "      <th>Genero</th>\n",
              "      <th>E1 - Examples of Time Series Analysis</th>\n",
              "      <th>E4 - Panel Data</th>\n",
              "      <th>E6 - Decison Trees</th>\n",
              "      <th>E8 - Ensemble Trees Overview</th>\n",
              "      <th>E10 - REST-API</th>\n",
              "      <th>E11 - Natural Language Processing Overview</th>\n",
              "    </tr>\n",
              "  </thead>\n",
              "  <tbody>\n",
              "    <tr>\n",
              "      <th>0</th>\n",
              "      <td>M</td>\n",
              "      <td>One of the most valuable application of time s...</td>\n",
              "      <td>The main difference between panel data and tim...</td>\n",
              "      <td>Decision tree are a model used by the analytic...</td>\n",
              "      <td>They are used to make a better prediction than...</td>\n",
              "      <td>Es una forma de arquitectura de datos. Los mic...</td>\n",
              "      <td>NaN</td>\n",
              "    </tr>\n",
              "    <tr>\n",
              "      <th>1</th>\n",
              "      <td>F</td>\n",
              "      <td>ANÁLISIS DE SERIES DE TIEMPO – USOS \\nEl análi...</td>\n",
              "      <td>Series de Tiempo vs Datos en Panel\\nUna serie ...</td>\n",
              "      <td>TIPOS DE ÁRBOLES DE DECISIÓN Y APLICACIONES\\nL...</td>\n",
              "      <td>ENSAMBLAJE EN MACHINE LEARNING\\nLos métodos de...</td>\n",
              "      <td>Microservicios\\nEl objetivo principal de la im...</td>\n",
              "      <td>NaN</td>\n",
              "    </tr>\n",
              "    <tr>\n",
              "      <th>2</th>\n",
              "      <td>M</td>\n",
              "      <td>Una serie de tiempo es una colección de datos ...</td>\n",
              "      <td>NaN</td>\n",
              "      <td>los arboles de decisión hacen parte de los alg...</td>\n",
              "      <td>Ensemble methods is a machine learning techniq...</td>\n",
              "      <td>El enfoque tradicional para el diseño de aplic...</td>\n",
              "      <td>LexisNexis launched Lexis Analytics, a legal r...</td>\n",
              "    </tr>\n",
              "    <tr>\n",
              "      <th>3</th>\n",
              "      <td>M</td>\n",
              "      <td>\\nGiven that Time Series Analysis allows to un...</td>\n",
              "      <td>The difference between panel data and time ser...</td>\n",
              "      <td>Decision Trees Algorithms are machine function...</td>\n",
              "      <td>Ensemble methods in Tree Decision algorithms b...</td>\n",
              "      <td>Micro-services are defined as a type of softwa...</td>\n",
              "      <td>NaN</td>\n",
              "    </tr>\n",
              "    <tr>\n",
              "      <th>4</th>\n",
              "      <td>M</td>\n",
              "      <td>Time Series Analysis is concerned with the stu...</td>\n",
              "      <td>A time series is represented by a variable or ...</td>\n",
              "      <td>Decision trees are a popular supervised machin...</td>\n",
              "      <td>The ensemble method is a combination of severa...</td>\n",
              "      <td>A microservice is a type of information techno...</td>\n",
              "      <td>A commercial product which uses Natural Langua...</td>\n",
              "    </tr>\n",
              "  </tbody>\n",
              "</table>\n",
              "</div>"
            ],
            "text/plain": [
              "  Genero  ...         E11 - Natural Language Processing Overview\n",
              "0      M  ...                                                NaN\n",
              "1      F  ...                                                NaN\n",
              "2      M  ...  LexisNexis launched Lexis Analytics, a legal r...\n",
              "3      M  ...                                                NaN\n",
              "4      M  ...  A commercial product which uses Natural Langua...\n",
              "\n",
              "[5 rows x 7 columns]"
            ]
          },
          "metadata": {
            "tags": []
          },
          "execution_count": 7
        }
      ]
    },
    {
      "cell_type": "code",
      "metadata": {
        "id": "vVxQzwzIjJxX",
        "colab_type": "code",
        "colab": {
          "base_uri": "https://localhost:8080/",
          "height": 204
        },
        "outputId": "6d1de2bd-6675-4996-f4ea-9c710c984a84"
      },
      "source": [
        "pip install langdetect"
      ],
      "execution_count": 6,
      "outputs": [
        {
          "output_type": "stream",
          "text": [
            "Collecting langdetect\n",
            "\u001b[?25l  Downloading https://files.pythonhosted.org/packages/56/a3/8407c1e62d5980188b4acc45ef3d94b933d14a2ebc9ef3505f22cf772570/langdetect-1.0.8.tar.gz (981kB)\n",
            "\r\u001b[K     |▍                               | 10kB 22.6MB/s eta 0:00:01\r\u001b[K     |▊                               | 20kB 2.1MB/s eta 0:00:01\r\u001b[K     |█                               | 30kB 2.7MB/s eta 0:00:01\r\u001b[K     |█▍                              | 40kB 3.1MB/s eta 0:00:01\r\u001b[K     |█▊                              | 51kB 2.4MB/s eta 0:00:01\r\u001b[K     |██                              | 61kB 2.8MB/s eta 0:00:01\r\u001b[K     |██▍                             | 71kB 3.0MB/s eta 0:00:01\r\u001b[K     |██▊                             | 81kB 3.4MB/s eta 0:00:01\r\u001b[K     |███                             | 92kB 3.5MB/s eta 0:00:01\r\u001b[K     |███▍                            | 102kB 3.4MB/s eta 0:00:01\r\u001b[K     |███▊                            | 112kB 3.4MB/s eta 0:00:01\r\u001b[K     |████                            | 122kB 3.4MB/s eta 0:00:01\r\u001b[K     |████▍                           | 133kB 3.4MB/s eta 0:00:01\r\u001b[K     |████▊                           | 143kB 3.4MB/s eta 0:00:01\r\u001b[K     |█████                           | 153kB 3.4MB/s eta 0:00:01\r\u001b[K     |█████▍                          | 163kB 3.4MB/s eta 0:00:01\r\u001b[K     |█████▊                          | 174kB 3.4MB/s eta 0:00:01\r\u001b[K     |██████                          | 184kB 3.4MB/s eta 0:00:01\r\u001b[K     |██████▍                         | 194kB 3.4MB/s eta 0:00:01\r\u001b[K     |██████▊                         | 204kB 3.4MB/s eta 0:00:01\r\u001b[K     |███████                         | 215kB 3.4MB/s eta 0:00:01\r\u001b[K     |███████▍                        | 225kB 3.4MB/s eta 0:00:01\r\u001b[K     |███████▊                        | 235kB 3.4MB/s eta 0:00:01\r\u001b[K     |████████                        | 245kB 3.4MB/s eta 0:00:01\r\u001b[K     |████████▍                       | 256kB 3.4MB/s eta 0:00:01\r\u001b[K     |████████▊                       | 266kB 3.4MB/s eta 0:00:01\r\u001b[K     |█████████                       | 276kB 3.4MB/s eta 0:00:01\r\u001b[K     |█████████▍                      | 286kB 3.4MB/s eta 0:00:01\r\u001b[K     |█████████▊                      | 296kB 3.4MB/s eta 0:00:01\r\u001b[K     |██████████                      | 307kB 3.4MB/s eta 0:00:01\r\u001b[K     |██████████▍                     | 317kB 3.4MB/s eta 0:00:01\r\u001b[K     |██████████▊                     | 327kB 3.4MB/s eta 0:00:01\r\u001b[K     |███████████                     | 337kB 3.4MB/s eta 0:00:01\r\u001b[K     |███████████▍                    | 348kB 3.4MB/s eta 0:00:01\r\u001b[K     |███████████▊                    | 358kB 3.4MB/s eta 0:00:01\r\u001b[K     |████████████                    | 368kB 3.4MB/s eta 0:00:01\r\u001b[K     |████████████▍                   | 378kB 3.4MB/s eta 0:00:01\r\u001b[K     |████████████▊                   | 389kB 3.4MB/s eta 0:00:01\r\u001b[K     |█████████████                   | 399kB 3.4MB/s eta 0:00:01\r\u001b[K     |█████████████▍                  | 409kB 3.4MB/s eta 0:00:01\r\u001b[K     |█████████████▊                  | 419kB 3.4MB/s eta 0:00:01\r\u001b[K     |██████████████                  | 430kB 3.4MB/s eta 0:00:01\r\u001b[K     |██████████████▍                 | 440kB 3.4MB/s eta 0:00:01\r\u001b[K     |██████████████▊                 | 450kB 3.4MB/s eta 0:00:01\r\u001b[K     |███████████████                 | 460kB 3.4MB/s eta 0:00:01\r\u001b[K     |███████████████▍                | 471kB 3.4MB/s eta 0:00:01\r\u001b[K     |███████████████▊                | 481kB 3.4MB/s eta 0:00:01\r\u001b[K     |████████████████                | 491kB 3.4MB/s eta 0:00:01\r\u001b[K     |████████████████▍               | 501kB 3.4MB/s eta 0:00:01\r\u001b[K     |████████████████▊               | 512kB 3.4MB/s eta 0:00:01\r\u001b[K     |█████████████████               | 522kB 3.4MB/s eta 0:00:01\r\u001b[K     |█████████████████▍              | 532kB 3.4MB/s eta 0:00:01\r\u001b[K     |█████████████████▊              | 542kB 3.4MB/s eta 0:00:01\r\u001b[K     |██████████████████              | 552kB 3.4MB/s eta 0:00:01\r\u001b[K     |██████████████████▍             | 563kB 3.4MB/s eta 0:00:01\r\u001b[K     |██████████████████▊             | 573kB 3.4MB/s eta 0:00:01\r\u001b[K     |███████████████████             | 583kB 3.4MB/s eta 0:00:01\r\u001b[K     |███████████████████▍            | 593kB 3.4MB/s eta 0:00:01\r\u001b[K     |███████████████████▊            | 604kB 3.4MB/s eta 0:00:01\r\u001b[K     |████████████████████            | 614kB 3.4MB/s eta 0:00:01\r\u001b[K     |████████████████████▍           | 624kB 3.4MB/s eta 0:00:01\r\u001b[K     |████████████████████▊           | 634kB 3.4MB/s eta 0:00:01\r\u001b[K     |█████████████████████           | 645kB 3.4MB/s eta 0:00:01\r\u001b[K     |█████████████████████▍          | 655kB 3.4MB/s eta 0:00:01\r\u001b[K     |█████████████████████▊          | 665kB 3.4MB/s eta 0:00:01\r\u001b[K     |██████████████████████          | 675kB 3.4MB/s eta 0:00:01\r\u001b[K     |██████████████████████▍         | 686kB 3.4MB/s eta 0:00:01\r\u001b[K     |██████████████████████▊         | 696kB 3.4MB/s eta 0:00:01\r\u001b[K     |███████████████████████         | 706kB 3.4MB/s eta 0:00:01\r\u001b[K     |███████████████████████▍        | 716kB 3.4MB/s eta 0:00:01\r\u001b[K     |███████████████████████▊        | 727kB 3.4MB/s eta 0:00:01\r\u001b[K     |████████████████████████        | 737kB 3.4MB/s eta 0:00:01\r\u001b[K     |████████████████████████▍       | 747kB 3.4MB/s eta 0:00:01\r\u001b[K     |████████████████████████▊       | 757kB 3.4MB/s eta 0:00:01\r\u001b[K     |█████████████████████████       | 768kB 3.4MB/s eta 0:00:01\r\u001b[K     |█████████████████████████▍      | 778kB 3.4MB/s eta 0:00:01\r\u001b[K     |█████████████████████████▊      | 788kB 3.4MB/s eta 0:00:01\r\u001b[K     |██████████████████████████      | 798kB 3.4MB/s eta 0:00:01\r\u001b[K     |██████████████████████████▍     | 808kB 3.4MB/s eta 0:00:01\r\u001b[K     |██████████████████████████▊     | 819kB 3.4MB/s eta 0:00:01\r\u001b[K     |███████████████████████████     | 829kB 3.4MB/s eta 0:00:01\r\u001b[K     |███████████████████████████▍    | 839kB 3.4MB/s eta 0:00:01\r\u001b[K     |███████████████████████████▊    | 849kB 3.4MB/s eta 0:00:01\r\u001b[K     |████████████████████████████    | 860kB 3.4MB/s eta 0:00:01\r\u001b[K     |████████████████████████████▍   | 870kB 3.4MB/s eta 0:00:01\r\u001b[K     |████████████████████████████▊   | 880kB 3.4MB/s eta 0:00:01\r\u001b[K     |█████████████████████████████   | 890kB 3.4MB/s eta 0:00:01\r\u001b[K     |█████████████████████████████▍  | 901kB 3.4MB/s eta 0:00:01\r\u001b[K     |█████████████████████████████▊  | 911kB 3.4MB/s eta 0:00:01\r\u001b[K     |██████████████████████████████  | 921kB 3.4MB/s eta 0:00:01\r\u001b[K     |██████████████████████████████▍ | 931kB 3.4MB/s eta 0:00:01\r\u001b[K     |██████████████████████████████▊ | 942kB 3.4MB/s eta 0:00:01\r\u001b[K     |███████████████████████████████ | 952kB 3.4MB/s eta 0:00:01\r\u001b[K     |███████████████████████████████▍| 962kB 3.4MB/s eta 0:00:01\r\u001b[K     |███████████████████████████████▊| 972kB 3.4MB/s eta 0:00:01\r\u001b[K     |████████████████████████████████| 983kB 3.4MB/s \n",
            "\u001b[?25hRequirement already satisfied: six in /usr/local/lib/python3.6/dist-packages (from langdetect) (1.12.0)\n",
            "Building wheels for collected packages: langdetect\n",
            "  Building wheel for langdetect (setup.py) ... \u001b[?25l\u001b[?25hdone\n",
            "  Created wheel for langdetect: filename=langdetect-1.0.8-cp36-none-any.whl size=993193 sha256=7943d2c16c9abac7326038b4f2ea41f12b225c37f3234085377ebef9bd095e68\n",
            "  Stored in directory: /root/.cache/pip/wheels/8d/b3/aa/6d99de9f3841d7d3d40a60ea06e6d669e8e5012e6c8b947a57\n",
            "Successfully built langdetect\n",
            "Installing collected packages: langdetect\n",
            "Successfully installed langdetect-1.0.8\n"
          ],
          "name": "stdout"
        }
      ]
    },
    {
      "cell_type": "code",
      "metadata": {
        "id": "a5WrQE_04E61",
        "colab_type": "code",
        "colab": {}
      },
      "source": [
        "%matplotlib inline\n",
        "import matplotlib.pyplot as plt\n",
        "import numpy as np\n",
        "import scipy as sp\n",
        "from sklearn.model_selection import train_test_split, cross_val_score\n",
        "from sklearn.feature_extraction.text import CountVectorizer, TfidfVectorizer\n",
        "from sklearn.naive_bayes import MultinomialNB\n",
        "from sklearn.linear_model import LogisticRegression\n",
        "from sklearn import metrics\n",
        "# from textblob import TextBlob, Word\n",
        "from nltk.stem.snowball import SnowballStemmer\n",
        "from scipy.spatial.distance import cosine\n",
        "from scipy import stats \n",
        "\n",
        "import re\n",
        "from langdetect import detect "
      ],
      "execution_count": 15,
      "outputs": []
    },
    {
      "cell_type": "code",
      "metadata": {
        "id": "_wfjN3Y04E64",
        "colab_type": "code",
        "colab": {}
      },
      "source": [
        "# construcción del indice de jaccard de similaridad - función\n",
        "def jaccard_similarity(query, document):\n",
        "    # set identifica cada una de las letras de la frase\n",
        "    # intersección identifica las letras comunes entre las dos frases\n",
        "    intersection = set(query).intersection(set(document))\n",
        "    # union une los dos conjuntos de letras\n",
        "    union = set(query).union(set(document))\n",
        "    return len(intersection)/len(union)"
      ],
      "execution_count": 9,
      "outputs": []
    },
    {
      "cell_type": "code",
      "metadata": {
        "id": "vhfAvwyg4E67",
        "colab_type": "code",
        "colab": {}
      },
      "source": [
        "# construcción del indice de coseno para identificar similaridad\n",
        "def cosine_distance_countVectorizer(s1, s2):\n",
        "    vect = CountVectorizer()\n",
        "    # envío de frases para ajustar a vectorizer (crea matriz cuenta la cantidad de palabras en cada frase)\n",
        "    X_dtm = vect.fit_transform([s1, s2]).todense()\n",
        "    \n",
        "    return 1-cosine(X_dtm[0], X_dtm[1])"
      ],
      "execution_count": 10,
      "outputs": []
    },
    {
      "cell_type": "code",
      "metadata": {
        "id": "9yT7Yc2h4E7C",
        "colab_type": "code",
        "colab": {
          "base_uri": "https://localhost:8080/",
          "height": 391
        },
        "outputId": "bf82e491-b49b-48d3-9f51-3ffff8bae16c"
      },
      "source": [
        "tareas = data\n",
        "# llenado de blancos con vacios\n",
        "tareas = tareas.fillna(\"\")\n",
        "tareas.head()"
      ],
      "execution_count": 11,
      "outputs": [
        {
          "output_type": "execute_result",
          "data": {
            "text/html": [
              "<div>\n",
              "<style scoped>\n",
              "    .dataframe tbody tr th:only-of-type {\n",
              "        vertical-align: middle;\n",
              "    }\n",
              "\n",
              "    .dataframe tbody tr th {\n",
              "        vertical-align: top;\n",
              "    }\n",
              "\n",
              "    .dataframe thead th {\n",
              "        text-align: right;\n",
              "    }\n",
              "</style>\n",
              "<table border=\"1\" class=\"dataframe\">\n",
              "  <thead>\n",
              "    <tr style=\"text-align: right;\">\n",
              "      <th></th>\n",
              "      <th>Genero</th>\n",
              "      <th>E1 - Examples of Time Series Analysis</th>\n",
              "      <th>E4 - Panel Data</th>\n",
              "      <th>E6 - Decison Trees</th>\n",
              "      <th>E8 - Ensemble Trees Overview</th>\n",
              "      <th>E10 - REST-API</th>\n",
              "      <th>E11 - Natural Language Processing Overview</th>\n",
              "    </tr>\n",
              "  </thead>\n",
              "  <tbody>\n",
              "    <tr>\n",
              "      <th>0</th>\n",
              "      <td>M</td>\n",
              "      <td>One of the most valuable application of time s...</td>\n",
              "      <td>The main difference between panel data and tim...</td>\n",
              "      <td>Decision tree are a model used by the analytic...</td>\n",
              "      <td>They are used to make a better prediction than...</td>\n",
              "      <td>Es una forma de arquitectura de datos. Los mic...</td>\n",
              "      <td></td>\n",
              "    </tr>\n",
              "    <tr>\n",
              "      <th>1</th>\n",
              "      <td>F</td>\n",
              "      <td>ANÁLISIS DE SERIES DE TIEMPO – USOS \\nEl análi...</td>\n",
              "      <td>Series de Tiempo vs Datos en Panel\\nUna serie ...</td>\n",
              "      <td>TIPOS DE ÁRBOLES DE DECISIÓN Y APLICACIONES\\nL...</td>\n",
              "      <td>ENSAMBLAJE EN MACHINE LEARNING\\nLos métodos de...</td>\n",
              "      <td>Microservicios\\nEl objetivo principal de la im...</td>\n",
              "      <td></td>\n",
              "    </tr>\n",
              "    <tr>\n",
              "      <th>2</th>\n",
              "      <td>M</td>\n",
              "      <td>Una serie de tiempo es una colección de datos ...</td>\n",
              "      <td></td>\n",
              "      <td>los arboles de decisión hacen parte de los alg...</td>\n",
              "      <td>Ensemble methods is a machine learning techniq...</td>\n",
              "      <td>El enfoque tradicional para el diseño de aplic...</td>\n",
              "      <td>LexisNexis launched Lexis Analytics, a legal r...</td>\n",
              "    </tr>\n",
              "    <tr>\n",
              "      <th>3</th>\n",
              "      <td>M</td>\n",
              "      <td>\\nGiven that Time Series Analysis allows to un...</td>\n",
              "      <td>The difference between panel data and time ser...</td>\n",
              "      <td>Decision Trees Algorithms are machine function...</td>\n",
              "      <td>Ensemble methods in Tree Decision algorithms b...</td>\n",
              "      <td>Micro-services are defined as a type of softwa...</td>\n",
              "      <td></td>\n",
              "    </tr>\n",
              "    <tr>\n",
              "      <th>4</th>\n",
              "      <td>M</td>\n",
              "      <td>Time Series Analysis is concerned with the stu...</td>\n",
              "      <td>A time series is represented by a variable or ...</td>\n",
              "      <td>Decision trees are a popular supervised machin...</td>\n",
              "      <td>The ensemble method is a combination of severa...</td>\n",
              "      <td>A microservice is a type of information techno...</td>\n",
              "      <td>A commercial product which uses Natural Langua...</td>\n",
              "    </tr>\n",
              "  </tbody>\n",
              "</table>\n",
              "</div>"
            ],
            "text/plain": [
              "  Genero  ...         E11 - Natural Language Processing Overview\n",
              "0      M  ...                                                   \n",
              "1      F  ...                                                   \n",
              "2      M  ...  LexisNexis launched Lexis Analytics, a legal r...\n",
              "3      M  ...                                                   \n",
              "4      M  ...  A commercial product which uses Natural Langua...\n",
              "\n",
              "[5 rows x 7 columns]"
            ]
          },
          "metadata": {
            "tags": []
          },
          "execution_count": 11
        }
      ]
    },
    {
      "cell_type": "code",
      "metadata": {
        "id": "YHcCfr9tBGcc",
        "colab_type": "code",
        "colab": {
          "base_uri": "https://localhost:8080/",
          "height": 137
        },
        "outputId": "e9e1c616-4bf3-493c-e8e0-34cd31752332"
      },
      "source": [
        "# Concatenar todos los escritos de un estudiante en una sola fila\n",
        "tareas1 = tareas.iloc[:,1].map(str) + tareas.iloc[:,2].map(str) + tareas.iloc[:,3].map(str) + tareas.iloc[:,4].map(str) + tareas.iloc[:,5].map(str) + tareas.iloc[:,6].map(str)\n",
        "tareas1[0]"
      ],
      "execution_count": 12,
      "outputs": [
        {
          "output_type": "execute_result",
          "data": {
            "application/vnd.google.colaboratory.intrinsic": {
              "type": "string"
            },
            "text/plain": [
              "'One of the most valuable application of time series analysis, is the financial one. Due to the amount of information that is given by market in different time periods, a stock price could give information by seconds, minutes, hours, days. On the other hand, there are variables that give information in a weekly basis, oil inventories, a monthly basis, PMI, consumer index, or in a yearly or quarterly basis, economic growth, sales, income, and other financial indicators from a company. For that reason, there are three great examples of time series analysis given forward on the financial field:\\n\\nAs an example, the financial time series i.e. stock prices, rates, sales, could be predicted with an ARIMA model. As they want to know patrons to predict the future. The stock prices for example has a trend, it is explained with the inflation rate, the economic growth and the consumer consumption. \\n\\nAnother application is the one that gave the financial market to moving averages, as a great approximation to understand the price behavior, as part of the technical analysis. As it could gave information about the trend, it is widely said, if the moving averages of a stock prices are sorted ascending [Moving Average (200) < Moving Average (100) < Moving Average (50)], the stock price trend is bullish.\\n\\nThe derivatives market also uses time series analysis to measure volatility, in that case a General Autoregressive conditional heteroscedasticity model gain importance, as it has the power to give more precision. As part of the derivatives valuation it is important to know the volatility, due to it is one of the components to calculate the fair price. Thus, the General Autoregressive conditional heteroscedasticity, could be used as predictor to the implied volatility to get the future price of a derivative in the financial market.The main difference between panel data and time series is the kind of data. I.E. time series is a single observation of a variable, instead panel data is a collection of single observations of variables across the time. So, we can conclude that panel data is a collection of time series.Decision tree are a model used by the analytics community. It is used to make easier the way to decide something. It involves probabilities, to measure the possible outcomes it will have. It is an algorithm that only have conditional control systems.\\n\\nEach node represents a test, each branch represents the outcome of the test and each leaf node represents the class label. Trees based algorithms is one of the most useful in machine learning supervised methods. It maps non-linear relationships in a very useful way.\\n\\nSome methods based on decision trees are random forest, gradient boosting, and they are used all day in data science problems. \\n\\nThe common terms in decision trees are: root node, that represents the entire population, splitting, the process that divides a node in two or more, decision node, when a sub node, splits in more sub nodes, it is called decision node, leaf or terminal node, the nodes that does not split, pruning, when it is removed some sub nodes of a decision node.\\n\\nUsually the target variable is categorical, and the decision tree calculate the probability that given a given record belong to each category or to classify the record by assigning it to the most likely class. It is also used to estimate the value of a continuous target variable.\\n\\nSome applications are when the user is trying to maximize, or to optimize something. When there are several ways to action a project. There are some events beyond the control of the decision maker. Evaluation of brand expansion opportunities for a business using historical sales data. Determination of likely buyers of a product using demographic data to enable targeting of limited advertisement budget. Prediction of likelihood of default for applicant borrowers using predictive models generated from historical data. Decision trees are commonly used in operations research, specifically in decision analysis, to help identify a strategy most likely to reach a goal.They are used to make a better prediction than utilizing a single one. \"The main principle behind the ensemble model is that a group of weak learners come together to form a strong learner.\"\\n\\nThere are two main ensemble techniques: boosting and bagging. \\n\\nIf the objective is reducing the model’s variance, it is used bagging. As a result, average of all the predictions from different trees are used which is more robust than a single decision tree. One extension of bagging is the random forest technique, as there are a lot of random subset of data, each one takes a tree. Some advantages of using Random Forest technique are handles higher dimensionality data very well and Handles missing values and maintains accuracy for missing data. On the other hand, some disadvantages of using Random Forest technique are Since final prediction is based on the mean predictions from subset trees, it won’t give precise values for the regression model.\\n\\nBoosting are a technique to create a collection of predictors, in this technique, learners are learned sequentially with early learners fitting simple models to the data and then analyzing data for errors. In other words, we fit consecutive trees (random sample) and at every step, the goal is to solve for net error from the prior tree. Some advantages of using Gradient Boosting techniques are supports different loss function and works well with interactions. On the other hand, disadvantages include prone to over-fitting and requires careful tuning of different hyper-parameters.\\n\\nSo in summary, the ensemble methods allow a combination of models that make a better assumption about the data science problem as some of the best predictions in one of them could be a better fit on other one. Ensemble methods are important because they cover the falls for some on them and improve it with the success of other ones.Es una forma de arquitectura de datos. Los microservicios hacen que las aplicaciones dividan sus elementos más pequeños e independientes entre sí. Los microservicios a diferencia de los servicios tradicionales son servicios independientes que llevan a cabo las mismas tareas. Cada uno de los procesos independientes es un microservicio.\\n\\nCon este enfoque lo que se busca es valorar cada uno de los detalles y hacer que así haya una configuraciòn de optimización para compartir la capacidad y sencillez de varias aplicaciones. Es un modelo fundamental para la migración hacía la nube de las aplicaciones tradicionales.\\n\\nNo basta con dividir las aplicaciones en microservicios, lo que se debe hacer es coordinar, administrar y gestionarlos para que sean una mejor aproximación que el enfoque tradicional. \\n\\nEntre las ventajas de los microservicios están: aplicaciones listas para comercializarse más rápido, gran capacidad de expasión, capacidad de recuperación, facilidad de implementación, accesibilidad y aplicaciones más abiertas. Así con los microservicios se logra que cada una de estas pequeñas aplicaciones puedan ser desarrolladas en el mejor lenguaje de programación y la tecnología aplicable.\\n\\nSin embargo, los desafios que presentan son: Diseño, se debe invertir tiempo y recursos en la interacción de los diferentes microservicios, pruebas, se deben hacer pruebas más complejas debido a la misma razón, control de versiones, al ser muchas y divididas puede perderse compatibilidad entre ellas de version a version, implementación, es un desafio mientras se logra la automatización total de los microservicios, registro, se necesitan registros centralizados para saber còmo integrar todos los elementos. Monitoreo, es indispensable para tener una versión centralizada. \\n\\nEn resumen, aunque los microservicios son una forma más eficiente de hacer las cosas, también presenta desafios, ya que es justamente su fortaleza, la de tener divisibilidad y adaptabilidad lo que hace que deba haber un monitoreo constante para el correcto funcionamiento.'"
            ]
          },
          "metadata": {
            "tags": []
          },
          "execution_count": 12
        }
      ]
    },
    {
      "cell_type": "markdown",
      "metadata": {
        "id": "bjUrWRjG4E6-",
        "colab_type": "text"
      },
      "source": [
        "# Exercise 13.1\n",
        "\n",
        "Analyze the writing patterns of each student"
      ]
    },
    {
      "cell_type": "markdown",
      "metadata": {
        "id": "HhLIDl4TiqbO",
        "colab_type": "text"
      },
      "source": [
        "A continuación se determina la cantidad de palabras escritas por cada uno de los estudiantes, adicionalmente se determina el promedio de palabras escritas por todo el grupo"
      ]
    },
    {
      "cell_type": "code",
      "metadata": {
        "id": "fxlEIIl8JmkZ",
        "colab_type": "code",
        "colab": {
          "base_uri": "https://localhost:8080/",
          "height": 88
        },
        "outputId": "a7b3272e-244e-4365-e4d3-3f83cc2a3daf"
      },
      "source": [
        "# promedio de palabras de todos los escritos de los estudiantes\n",
        "LX = []\n",
        "for i in range(len(tareas1)):\n",
        "  x =[]\n",
        "  # función para dividir, por espacios, puntos, etc\n",
        "  x = re.findall(r\"[\\w']+\", tareas1[i])\n",
        "  LX.append(len(x))\n",
        "\n",
        "# total palabras de cada uno de los estudiantes en todas las tareas\n",
        "print(\"La cantidad de palabras escritas por cada uno de los estudiantes\")\n",
        "print(LX)\n",
        "\n",
        "# promedio de palabras de todos los escritos\n",
        "average = sum(LX) / len(LX)\n",
        "print(\"promedio de palabras escritas por los estdiantes: \", average)"
      ],
      "execution_count": 14,
      "outputs": [
        {
          "output_type": "stream",
          "text": [
            "La cantidad de palabras escritas por cada uno de los estudiantes\n",
            "[1287, 1801, 1422, 1416, 2118, 1122, 1507, 1396, 554, 647, 1180, 1508, 1667, 428, 1880, 1561, 2466, 1172, 1352, 1528, 1902, 1303, 1442, 1243, 1150, 1106, 1196, 1160, 1149, 905, 2417, 675, 1353, 1677, 1659, 1532, 1571, 1255, 1776, 1811, 1416, 1913, 1696, 1171, 1765, 1540]\n",
            "promedio de palabras escritas por los estdiantes:  1430.3260869565217\n"
          ],
          "name": "stdout"
        }
      ]
    },
    {
      "cell_type": "code",
      "metadata": {
        "id": "26Z5D__XRREA",
        "colab_type": "code",
        "colab": {
          "base_uri": "https://localhost:8080/",
          "height": 34
        },
        "outputId": "1b9e990e-3046-4d99-a26e-c54034ede39b"
      },
      "source": [
        "# descriptivas de las cantidad de palabras por estudiante\n",
        "desc = stats.describe(LX)\n",
        "desc"
      ],
      "execution_count": 16,
      "outputs": [
        {
          "output_type": "execute_result",
          "data": {
            "text/plain": [
              "DescribeResult(nobs=46, minmax=(428, 2466), mean=1430.3260869565217, variance=178727.11352657003, skewness=0.0038259515436328316, kurtosis=0.5434984033842629)"
            ]
          },
          "metadata": {
            "tags": []
          },
          "execution_count": 16
        }
      ]
    },
    {
      "cell_type": "code",
      "metadata": {
        "id": "8W_l-BkpWu4C",
        "colab_type": "code",
        "colab": {
          "base_uri": "https://localhost:8080/",
          "height": 298
        },
        "outputId": "0d15221e-6526-4a1f-eacc-9c92b4e92d88"
      },
      "source": [
        "# histograma de la cantidad de palabras\n",
        "plt.title('Cantidad de palabras de los estudiantes')\n",
        "plt.hist(LX)\n",
        "plt.grid(True)\n",
        "plt.show()\n",
        "plt.clf()"
      ],
      "execution_count": 17,
      "outputs": [
        {
          "output_type": "display_data",
          "data": {
            "image/png": "[encoded data removed]",
            "text/plain": [
              "<Figure size 432x288 with 1 Axes>"
            ]
          },
          "metadata": {
            "tags": [],
            "needs_background": "light"
          }
        },
        {
          "output_type": "display_data",
          "data": {
            "text/plain": [
              "<Figure size 432x288 with 0 Axes>"
            ]
          },
          "metadata": {
            "tags": []
          }
        }
      ]
    },
    {
      "cell_type": "code",
      "metadata": {
        "id": "BgyVCQGgXRpE",
        "colab_type": "code",
        "colab": {
          "base_uri": "https://localhost:8080/",
          "height": 359
        },
        "outputId": "65afafeb-4bc0-4269-abb3-3eae5df82dd7"
      },
      "source": [
        "LX1 = pd.DataFrame(LX)\n",
        "LX1.describe(percentiles=[.8,.9,.95,.975])"
      ],
      "execution_count": 18,
      "outputs": [
        {
          "output_type": "execute_result",
          "data": {
            "text/html": [
              "<div>\n",
              "<style scoped>\n",
              "    .dataframe tbody tr th:only-of-type {\n",
              "        vertical-align: middle;\n",
              "    }\n",
              "\n",
              "    .dataframe tbody tr th {\n",
              "        vertical-align: top;\n",
              "    }\n",
              "\n",
              "    .dataframe thead th {\n",
              "        text-align: right;\n",
              "    }\n",
              "</style>\n",
              "<table border=\"1\" class=\"dataframe\">\n",
              "  <thead>\n",
              "    <tr style=\"text-align: right;\">\n",
              "      <th></th>\n",
              "      <th>0</th>\n",
              "    </tr>\n",
              "  </thead>\n",
              "  <tbody>\n",
              "    <tr>\n",
              "      <th>count</th>\n",
              "      <td>46.000000</td>\n",
              "    </tr>\n",
              "    <tr>\n",
              "      <th>mean</th>\n",
              "      <td>1430.326087</td>\n",
              "    </tr>\n",
              "    <tr>\n",
              "      <th>std</th>\n",
              "      <td>422.761296</td>\n",
              "    </tr>\n",
              "    <tr>\n",
              "      <th>min</th>\n",
              "      <td>428.000000</td>\n",
              "    </tr>\n",
              "    <tr>\n",
              "      <th>50%</th>\n",
              "      <td>1419.000000</td>\n",
              "    </tr>\n",
              "    <tr>\n",
              "      <th>80%</th>\n",
              "      <td>1765.000000</td>\n",
              "    </tr>\n",
              "    <tr>\n",
              "      <th>90%</th>\n",
              "      <td>1891.000000</td>\n",
              "    </tr>\n",
              "    <tr>\n",
              "      <th>95%</th>\n",
              "      <td>2066.750000</td>\n",
              "    </tr>\n",
              "    <tr>\n",
              "      <th>97.5%</th>\n",
              "      <td>2379.625000</td>\n",
              "    </tr>\n",
              "    <tr>\n",
              "      <th>max</th>\n",
              "      <td>2466.000000</td>\n",
              "    </tr>\n",
              "  </tbody>\n",
              "</table>\n",
              "</div>"
            ],
            "text/plain": [
              "                 0\n",
              "count    46.000000\n",
              "mean   1430.326087\n",
              "std     422.761296\n",
              "min     428.000000\n",
              "50%    1419.000000\n",
              "80%    1765.000000\n",
              "90%    1891.000000\n",
              "95%    2066.750000\n",
              "97.5%  2379.625000\n",
              "max    2466.000000"
            ]
          },
          "metadata": {
            "tags": []
          },
          "execution_count": 18
        }
      ]
    },
    {
      "cell_type": "markdown",
      "metadata": {
        "id": "U-BP_tHtkHAF",
        "colab_type": "text"
      },
      "source": [
        "Identificación de cantidad de palabras por genero"
      ]
    },
    {
      "cell_type": "code",
      "metadata": {
        "id": "8mY1TpAZY2Ug",
        "colab_type": "code",
        "colab": {}
      },
      "source": [
        "# agregar columnas de texto concatenado y cantidad de palabras\n",
        "DF2 = tareas\n",
        "DF2['texto'] = tareas1 \n",
        "DF2['npalabras'] = LX\n",
        "DF3 = DF2.iloc[:,[0,7,8]]"
      ],
      "execution_count": 21,
      "outputs": []
    },
    {
      "cell_type": "code",
      "metadata": {
        "id": "VLjcTVpSeaBP",
        "colab_type": "code",
        "colab": {
          "base_uri": "https://localhost:8080/",
          "height": 173
        },
        "outputId": "3256b184-b2d9-44ad-8b58-dbae69a08ff7"
      },
      "source": [
        "# agrupación por genero, descriptiva de cantidad de palabras\n",
        "DF3[['Genero','texto','npalabras' ]].groupby(['Genero']).describe(percentiles=[.8,.9,.95,.975])"
      ],
      "execution_count": 23,
      "outputs": [
        {
          "output_type": "execute_result",
          "data": {
            "text/html": [
              "<div>\n",
              "<style scoped>\n",
              "    .dataframe tbody tr th:only-of-type {\n",
              "        vertical-align: middle;\n",
              "    }\n",
              "\n",
              "    .dataframe tbody tr th {\n",
              "        vertical-align: top;\n",
              "    }\n",
              "\n",
              "    .dataframe thead tr th {\n",
              "        text-align: left;\n",
              "    }\n",
              "\n",
              "    .dataframe thead tr:last-of-type th {\n",
              "        text-align: right;\n",
              "    }\n",
              "</style>\n",
              "<table border=\"1\" class=\"dataframe\">\n",
              "  <thead>\n",
              "    <tr>\n",
              "      <th></th>\n",
              "      <th colspan=\"10\" halign=\"left\">npalabras</th>\n",
              "    </tr>\n",
              "    <tr>\n",
              "      <th></th>\n",
              "      <th>count</th>\n",
              "      <th>mean</th>\n",
              "      <th>std</th>\n",
              "      <th>min</th>\n",
              "      <th>50%</th>\n",
              "      <th>80%</th>\n",
              "      <th>90%</th>\n",
              "      <th>95%</th>\n",
              "      <th>97.5%</th>\n",
              "      <th>max</th>\n",
              "    </tr>\n",
              "    <tr>\n",
              "      <th>Genero</th>\n",
              "      <th></th>\n",
              "      <th></th>\n",
              "      <th></th>\n",
              "      <th></th>\n",
              "      <th></th>\n",
              "      <th></th>\n",
              "      <th></th>\n",
              "      <th></th>\n",
              "      <th></th>\n",
              "      <th></th>\n",
              "    </tr>\n",
              "  </thead>\n",
              "  <tbody>\n",
              "    <tr>\n",
              "      <th>F</th>\n",
              "      <td>10.0</td>\n",
              "      <td>1532.3</td>\n",
              "      <td>514.796195</td>\n",
              "      <td>554.0</td>\n",
              "      <td>1583.5</td>\n",
              "      <td>1829.2</td>\n",
              "      <td>1953.5</td>\n",
              "      <td>2185.25</td>\n",
              "      <td>2301.125</td>\n",
              "      <td>2417.0</td>\n",
              "    </tr>\n",
              "    <tr>\n",
              "      <th>M</th>\n",
              "      <td>36.0</td>\n",
              "      <td>1402.0</td>\n",
              "      <td>397.302044</td>\n",
              "      <td>428.0</td>\n",
              "      <td>1406.0</td>\n",
              "      <td>1677.0</td>\n",
              "      <td>1828.0</td>\n",
              "      <td>1964.25</td>\n",
              "      <td>2161.500</td>\n",
              "      <td>2466.0</td>\n",
              "    </tr>\n",
              "  </tbody>\n",
              "</table>\n",
              "</div>"
            ],
            "text/plain": [
              "       npalabras                             ...                                   \n",
              "           count    mean         std    min  ...     90%      95%     97.5%     max\n",
              "Genero                                       ...                                   \n",
              "F           10.0  1532.3  514.796195  554.0  ...  1953.5  2185.25  2301.125  2417.0\n",
              "M           36.0  1402.0  397.302044  428.0  ...  1828.0  1964.25  2161.500  2466.0\n",
              "\n",
              "[2 rows x 10 columns]"
            ]
          },
          "metadata": {
            "tags": []
          },
          "execution_count": 23
        }
      ]
    },
    {
      "cell_type": "code",
      "metadata": {
        "id": "6uKf2QOwlj9M",
        "colab_type": "code",
        "colab": {
          "base_uri": "https://localhost:8080/",
          "height": 34
        },
        "outputId": "11bafa5f-425a-49f7-889e-eab7118ffe64"
      },
      "source": [
        "vect1 = CountVectorizer()\n",
        "X_dtm1 = vect1.fit_transform(tareas1)\n",
        "X_dtm1.shape"
      ],
      "execution_count": 24,
      "outputs": [
        {
          "output_type": "execute_result",
          "data": {
            "text/plain": [
              "(46, 7569)"
            ]
          },
          "metadata": {
            "tags": []
          },
          "execution_count": 24
        }
      ]
    },
    {
      "cell_type": "code",
      "metadata": {
        "id": "_L7RO-WBljpm",
        "colab_type": "code",
        "colab": {
          "base_uri": "https://localhost:8080/",
          "height": 204
        },
        "outputId": "87cbc5d0-8b66-4258-a04b-ce6568738c10"
      },
      "source": [
        "# guardar diccionario de palabras con conteo\n",
        "Npalabras = vect1.vocabulary_\n",
        "# analisis del diccionario de terminos cmo dataframe\n",
        "df1 = pd.DataFrame([[key, ZZ[key]] for key in ZZ.keys()], columns=['Word', 'Amount'])\n",
        "df1.head()\n"
      ],
      "execution_count": 50,
      "outputs": [
        {
          "output_type": "execute_result",
          "data": {
            "text/html": [
              "<div>\n",
              "<style scoped>\n",
              "    .dataframe tbody tr th:only-of-type {\n",
              "        vertical-align: middle;\n",
              "    }\n",
              "\n",
              "    .dataframe tbody tr th {\n",
              "        vertical-align: top;\n",
              "    }\n",
              "\n",
              "    .dataframe thead th {\n",
              "        text-align: right;\n",
              "    }\n",
              "</style>\n",
              "<table border=\"1\" class=\"dataframe\">\n",
              "  <thead>\n",
              "    <tr style=\"text-align: right;\">\n",
              "      <th></th>\n",
              "      <th>Word</th>\n",
              "      <th>Amount</th>\n",
              "    </tr>\n",
              "  </thead>\n",
              "  <tbody>\n",
              "    <tr>\n",
              "      <th>0</th>\n",
              "      <td>one</td>\n",
              "      <td>4946</td>\n",
              "    </tr>\n",
              "    <tr>\n",
              "      <th>1</th>\n",
              "      <td>of</td>\n",
              "      <td>4920</td>\n",
              "    </tr>\n",
              "    <tr>\n",
              "      <th>2</th>\n",
              "      <td>the</td>\n",
              "      <td>6923</td>\n",
              "    </tr>\n",
              "    <tr>\n",
              "      <th>3</th>\n",
              "      <td>most</td>\n",
              "      <td>4643</td>\n",
              "    </tr>\n",
              "    <tr>\n",
              "      <th>4</th>\n",
              "      <td>valuable</td>\n",
              "      <td>7270</td>\n",
              "    </tr>\n",
              "  </tbody>\n",
              "</table>\n",
              "</div>"
            ],
            "text/plain": [
              "       Word  Amount\n",
              "0       one    4946\n",
              "1        of    4920\n",
              "2       the    6923\n",
              "3      most    4643\n",
              "4  valuable    7270"
            ]
          },
          "metadata": {
            "tags": []
          },
          "execution_count": 50
        }
      ]
    },
    {
      "cell_type": "code",
      "metadata": {
        "id": "ZL4LwQAK-Ql8",
        "colab_type": "code",
        "colab": {}
      },
      "source": [
        "# función recibe un la cantidad minima, maxima para los ngramas, la matriz a transformar y la cantidad de valores que desea proyectar\n",
        "def mayores (ini,fin, matriz, n):\n",
        "  # identificación de palabras más repetidas\n",
        "  vectN = CountVectorizer(ngram_range=(ini,fin))\n",
        "  X_dtmN = vectN.fit_transform(matriz)\n",
        "  #print(X_dtmN)\n",
        "\n",
        "  #conversión a dataframe la matriz de palabras (.keys tiene los nombres de cada una de las palabras)\n",
        "  df1 = pd.DataFrame([[key, vectN.vocabulary_[key]] for key in vectN.vocabulary_.keys()], columns=['Word', 'Cod'])\n",
        "  df1 = df1.set_index(['Cod'])\n",
        "\n",
        "  # conversión en dataframe el conteo de palabras\n",
        "  df2 = pd.DataFrame( X_dtmN.data ,index = X_dtmN.indices)\n",
        "\n",
        "  #unión de los dataframe\n",
        "  df3 = pd.merge(df1, df2, left_on=df1.index, right_on=df2.index)\n",
        "\n",
        "  # selección de los n más altos en repetición\n",
        "  mayor = df3.nlargest(n, 0)\n",
        "  menores = df3.nsmallest(n,0)\n",
        "  return menores, mayor\n"
      ],
      "execution_count": 173,
      "outputs": []
    },
    {
      "cell_type": "code",
      "metadata": {
        "id": "S7_sdiNdu6oi",
        "colab_type": "code",
        "colab": {
          "base_uri": "https://localhost:8080/",
          "height": 204
        },
        "outputId": "3632959d-882a-4063-cfc9-19bcab03755e"
      },
      "source": [
        "# ngramas de 3 palabras más usadas en las tareas\n",
        "mayores(3,4,tareas1,5)[1]"
      ],
      "execution_count": 177,
      "outputs": [
        {
          "output_type": "execute_result",
          "data": {
            "text/html": [
              "<div>\n",
              "<style scoped>\n",
              "    .dataframe tbody tr th:only-of-type {\n",
              "        vertical-align: middle;\n",
              "    }\n",
              "\n",
              "    .dataframe tbody tr th {\n",
              "        vertical-align: top;\n",
              "    }\n",
              "\n",
              "    .dataframe thead th {\n",
              "        text-align: right;\n",
              "    }\n",
              "</style>\n",
              "<table border=\"1\" class=\"dataframe\">\n",
              "  <thead>\n",
              "    <tr style=\"text-align: right;\">\n",
              "      <th></th>\n",
              "      <th>key_0</th>\n",
              "      <th>Word</th>\n",
              "      <th>0</th>\n",
              "    </tr>\n",
              "  </thead>\n",
              "  <tbody>\n",
              "    <tr>\n",
              "      <th>25164</th>\n",
              "      <td>68519</td>\n",
              "      <td>obtenido de https</td>\n",
              "      <td>20</td>\n",
              "    </tr>\n",
              "    <tr>\n",
              "      <th>8988</th>\n",
              "      <td>49893</td>\n",
              "      <td>in order to</td>\n",
              "      <td>10</td>\n",
              "    </tr>\n",
              "    <tr>\n",
              "      <th>3085</th>\n",
              "      <td>88338</td>\n",
              "      <td>series de tiempo</td>\n",
              "      <td>9</td>\n",
              "    </tr>\n",
              "    <tr>\n",
              "      <th>3530</th>\n",
              "      <td>20026</td>\n",
              "      <td>de acuerdo con</td>\n",
              "      <td>8</td>\n",
              "    </tr>\n",
              "    <tr>\n",
              "      <th>4890</th>\n",
              "      <td>66027</td>\n",
              "      <td>métodos de ensamblaje</td>\n",
              "      <td>8</td>\n",
              "    </tr>\n",
              "  </tbody>\n",
              "</table>\n",
              "</div>"
            ],
            "text/plain": [
              "       key_0                   Word   0\n",
              "25164  68519      obtenido de https  20\n",
              "8988   49893            in order to  10\n",
              "3085   88338       series de tiempo   9\n",
              "3530   20026         de acuerdo con   8\n",
              "4890   66027  métodos de ensamblaje   8"
            ]
          },
          "metadata": {
            "tags": []
          },
          "execution_count": 177
        }
      ]
    },
    {
      "cell_type": "code",
      "metadata": {
        "id": "e-JMoT1ryx31",
        "colab_type": "code",
        "colab": {
          "base_uri": "https://localhost:8080/",
          "height": 204
        },
        "outputId": "3bf3e789-a4ce-4161-ed8a-36a883b9a3d8"
      },
      "source": [
        "# palabras más usadas en las tareas\n",
        "mayores(1,1,tareas1,5)[1]"
      ],
      "execution_count": 178,
      "outputs": [
        {
          "output_type": "execute_result",
          "data": {
            "text/html": [
              "<div>\n",
              "<style scoped>\n",
              "    .dataframe tbody tr th:only-of-type {\n",
              "        vertical-align: middle;\n",
              "    }\n",
              "\n",
              "    .dataframe tbody tr th {\n",
              "        vertical-align: top;\n",
              "    }\n",
              "\n",
              "    .dataframe thead th {\n",
              "        text-align: right;\n",
              "    }\n",
              "</style>\n",
              "<table border=\"1\" class=\"dataframe\">\n",
              "  <thead>\n",
              "    <tr style=\"text-align: right;\">\n",
              "      <th></th>\n",
              "      <th>key_0</th>\n",
              "      <th>Word</th>\n",
              "      <th>0</th>\n",
              "    </tr>\n",
              "  </thead>\n",
              "  <tbody>\n",
              "    <tr>\n",
              "      <th>2575</th>\n",
              "      <td>2007</td>\n",
              "      <td>de</td>\n",
              "      <td>278</td>\n",
              "    </tr>\n",
              "    <tr>\n",
              "      <th>2587</th>\n",
              "      <td>2007</td>\n",
              "      <td>de</td>\n",
              "      <td>229</td>\n",
              "    </tr>\n",
              "    <tr>\n",
              "      <th>2600</th>\n",
              "      <td>2007</td>\n",
              "      <td>de</td>\n",
              "      <td>177</td>\n",
              "    </tr>\n",
              "    <tr>\n",
              "      <th>2598</th>\n",
              "      <td>2007</td>\n",
              "      <td>de</td>\n",
              "      <td>172</td>\n",
              "    </tr>\n",
              "    <tr>\n",
              "      <th>2562</th>\n",
              "      <td>2007</td>\n",
              "      <td>de</td>\n",
              "      <td>169</td>\n",
              "    </tr>\n",
              "  </tbody>\n",
              "</table>\n",
              "</div>"
            ],
            "text/plain": [
              "      key_0 Word    0\n",
              "2575   2007   de  278\n",
              "2587   2007   de  229\n",
              "2600   2007   de  177\n",
              "2598   2007   de  172\n",
              "2562   2007   de  169"
            ]
          },
          "metadata": {
            "tags": []
          },
          "execution_count": 178
        }
      ]
    },
    {
      "cell_type": "code",
      "metadata": {
        "id": "r0EiYg2ZZvVn",
        "colab_type": "code",
        "colab": {
          "base_uri": "https://localhost:8080/",
          "height": 34
        },
        "outputId": "ecfa9339-d099-4559-e66e-d37db2344b77"
      },
      "source": [
        "# include 1-grams and 4-grams\n",
        "vect = CountVectorizer(ngram_range=(3, 4))\n",
        "X_dtm = vect.fit_transform(tareas1)\n",
        "X_dtm.shape"
      ],
      "execution_count": 172,
      "outputs": [
        {
          "output_type": "execute_result",
          "data": {
            "text/plain": [
              "(46, 108279)"
            ]
          },
          "metadata": {
            "tags": []
          },
          "execution_count": 172
        }
      ]
    },
    {
      "cell_type": "code",
      "metadata": {
        "id": "MeRXDhWeg8g1",
        "colab_type": "code",
        "colab": {
          "base_uri": "https://localhost:8080/",
          "height": 54
        },
        "outputId": "011400a4-2247-44b0-b107-dec0aa98d951"
      },
      "source": [
        "# 50 primeras\n",
        "print(vect.get_feature_names()[-3000:-2950])"
      ],
      "execution_count": null,
      "outputs": [
        {
          "output_type": "stream",
          "text": [
            "['volátil ya que al', 'volátiles', 'volátiles es', 'volátiles es necesario', 'volátiles es necesario en', 'volúmenes', 'volúmenes de', 'volúmenes de datos', 'volúmenes de datos sino', 'volúmenes de monetización', 'volúmenes de monetización de', 'volúmenes de radicaciones', 'volúmenes de radicaciones con', 'volúmenes elevados', 'volúmenes elevados de', 'volúmenes elevados de microservicios', 'votación', 'votación de', 'votación de esta', 'votación de esta forma', 'votación la', 'votación la probabilidad', 'votación la probabilidad del', 'votación para', 'votación para las', 'votación para las clases', 'votación ponderada', 'votación ponderada donde', 'votación ponderada donde los', 'votación por', 'votación por el', 'votación por el promedio', 'votación por mayoría', 'votación por mayoría bagging', 'votada', 'votada en', 'votada en regresión', 'votada en regresión dada', 'votando', 'votando los', 'votando los árboles', 'votando los árboles para', 'votar', 'votar los', 'votar los árboles', 'votar los árboles para', 'vote', 'vote from', 'vote from all', 'vote from all the']\n"
          ],
          "name": "stdout"
        }
      ]
    },
    {
      "cell_type": "code",
      "metadata": {
        "id": "kN9h1ml2g8e9",
        "colab_type": "code",
        "colab": {}
      },
      "source": [
        "# creating a list of dataframe columns \n",
        "DF4 = tareas.iloc[:,1:7]\n",
        "clmn = list(DF4)\n",
        "\n",
        "Ridioma = []\n",
        "for j in range(DF4.shape[0]):\n",
        "  idiomas = []\n",
        "  for i in range(len(clmn)):\n",
        "    try:\n",
        "      idiomas.append(detect(DF4.iloc[j,i]))\n",
        "    except:\n",
        "      idiomas.append(\"NA\")\n",
        "  Ridioma.append(idiomas)\n",
        "#Ridioma"
      ],
      "execution_count": 194,
      "outputs": []
    },
    {
      "cell_type": "code",
      "metadata": {
        "id": "us9x3zpoOviU",
        "colab_type": "code",
        "colab": {
          "base_uri": "https://localhost:8080/",
          "height": 425
        },
        "outputId": "b7864ee2-256f-42c6-b859-940adebd907d"
      },
      "source": [
        "# estadisticas por tarea\n",
        "PDRidioma = pd.DataFrame(Ridioma)\n",
        "PDRidioma1 =PDRidioma.rename(columns={0: \"E1\", 1: \"E4\", 2:\"E6\", 3: \"E8\", 4: \"E10\", 5: \"E11\"})\n",
        "\n",
        "for i in range(6):\n",
        "  print(pd.value_counts(PDRidioma1.iloc[:,i]))\n",
        "\n",
        "#PDRidioma1.groupby(['E1','E4','E6','E8','E10']).describe(percentiles=[.8,.9,.95,.975])"
      ],
      "execution_count": 195,
      "outputs": [
        {
          "output_type": "stream",
          "text": [
            "es    32\n",
            "en    12\n",
            "NA     2\n",
            "Name: E1, dtype: int64\n",
            "es    36\n",
            "en     8\n",
            "NA     2\n",
            "Name: E4, dtype: int64\n",
            "es    36\n",
            "en     6\n",
            "NA     4\n",
            "Name: E6, dtype: int64\n",
            "es    31\n",
            "NA     8\n",
            "en     7\n",
            "Name: E8, dtype: int64\n",
            "es    40\n",
            "en     5\n",
            "NA     1\n",
            "Name: E10, dtype: int64\n",
            "NA    30\n",
            "es    11\n",
            "en     5\n",
            "Name: E11, dtype: int64\n"
          ],
          "name": "stdout"
        }
      ]
    },
    {
      "cell_type": "code",
      "metadata": {
        "id": "gAYRJn3yweDY",
        "colab_type": "code",
        "colab": {}
      },
      "source": [
        "DR = pd.DataFrame({i: [Ridioma[i].count('en'),Ridioma[i].count('es')] for i in range(len(Ridioma))})"
      ],
      "execution_count": 196,
      "outputs": []
    },
    {
      "cell_type": "code",
      "metadata": {
        "id": "GE3-04p-ySNX",
        "colab_type": "code",
        "colab": {}
      },
      "source": [
        "DR2=DR.transpose()\n",
        "DR2 = DR2.rename(columns={0: \"en\", 1: \"es\"})"
      ],
      "execution_count": 197,
      "outputs": []
    },
    {
      "cell_type": "code",
      "metadata": {
        "id": "sn0m2Msr0RW6",
        "colab_type": "code",
        "colab": {}
      },
      "source": [
        "LNM = []\n",
        "for i in range(DR2.shape[0]):\n",
        "  if (DR2.iloc[i,0]>DR2.iloc[i,1]):\n",
        "    LNM.append(\"en\")\n",
        "  else:\n",
        "    LNM.append(\"es\")"
      ],
      "execution_count": 198,
      "outputs": []
    },
    {
      "cell_type": "code",
      "metadata": {
        "id": "nUG2R-259Mhx",
        "colab_type": "code",
        "colab": {}
      },
      "source": [
        "DF2['Idioma_Predominante'] = LNM"
      ],
      "execution_count": 199,
      "outputs": []
    },
    {
      "cell_type": "code",
      "metadata": {
        "id": "VbnQIu1m0RSp",
        "colab_type": "code",
        "colab": {
          "base_uri": "https://localhost:8080/",
          "height": 173
        },
        "outputId": "5cce66dd-5655-44c3-feb3-2b134d2503ab"
      },
      "source": [
        "# agrupación por genero, descriptiva de cantidad de palabras\n",
        "DF2[['Genero','texto','npalabras','Idioma_Predominante']].groupby(['Idioma_Predominante']).describe(percentiles=[.8,.9,.95,.975])"
      ],
      "execution_count": 200,
      "outputs": [
        {
          "output_type": "execute_result",
          "data": {
            "text/html": [
              "<div>\n",
              "<style scoped>\n",
              "    .dataframe tbody tr th:only-of-type {\n",
              "        vertical-align: middle;\n",
              "    }\n",
              "\n",
              "    .dataframe tbody tr th {\n",
              "        vertical-align: top;\n",
              "    }\n",
              "\n",
              "    .dataframe thead tr th {\n",
              "        text-align: left;\n",
              "    }\n",
              "\n",
              "    .dataframe thead tr:last-of-type th {\n",
              "        text-align: right;\n",
              "    }\n",
              "</style>\n",
              "<table border=\"1\" class=\"dataframe\">\n",
              "  <thead>\n",
              "    <tr>\n",
              "      <th></th>\n",
              "      <th colspan=\"10\" halign=\"left\">npalabras</th>\n",
              "    </tr>\n",
              "    <tr>\n",
              "      <th></th>\n",
              "      <th>count</th>\n",
              "      <th>mean</th>\n",
              "      <th>std</th>\n",
              "      <th>min</th>\n",
              "      <th>50%</th>\n",
              "      <th>80%</th>\n",
              "      <th>90%</th>\n",
              "      <th>95%</th>\n",
              "      <th>97.5%</th>\n",
              "      <th>max</th>\n",
              "    </tr>\n",
              "    <tr>\n",
              "      <th>Idioma_Predominante</th>\n",
              "      <th></th>\n",
              "      <th></th>\n",
              "      <th></th>\n",
              "      <th></th>\n",
              "      <th></th>\n",
              "      <th></th>\n",
              "      <th></th>\n",
              "      <th></th>\n",
              "      <th></th>\n",
              "      <th></th>\n",
              "    </tr>\n",
              "  </thead>\n",
              "  <tbody>\n",
              "    <tr>\n",
              "      <th>en</th>\n",
              "      <td>6.0</td>\n",
              "      <td>1500.000</td>\n",
              "      <td>372.068273</td>\n",
              "      <td>1160.0</td>\n",
              "      <td>1351.5</td>\n",
              "      <td>1776.0</td>\n",
              "      <td>1947.0</td>\n",
              "      <td>2032.5</td>\n",
              "      <td>2075.250</td>\n",
              "      <td>2118.0</td>\n",
              "    </tr>\n",
              "    <tr>\n",
              "      <th>es</th>\n",
              "      <td>40.0</td>\n",
              "      <td>1419.875</td>\n",
              "      <td>433.147407</td>\n",
              "      <td>428.0</td>\n",
              "      <td>1432.0</td>\n",
              "      <td>1709.8</td>\n",
              "      <td>1882.2</td>\n",
              "      <td>1938.2</td>\n",
              "      <td>2418.225</td>\n",
              "      <td>2466.0</td>\n",
              "    </tr>\n",
              "  </tbody>\n",
              "</table>\n",
              "</div>"
            ],
            "text/plain": [
              "                    npalabras                        ...                          \n",
              "                        count      mean         std  ...     95%     97.5%     max\n",
              "Idioma_Predominante                                  ...                          \n",
              "en                        6.0  1500.000  372.068273  ...  2032.5  2075.250  2118.0\n",
              "es                       40.0  1419.875  433.147407  ...  1938.2  2418.225  2466.0\n",
              "\n",
              "[2 rows x 10 columns]"
            ]
          },
          "metadata": {
            "tags": []
          },
          "execution_count": 200
        }
      ]
    },
    {
      "cell_type": "markdown",
      "metadata": {
        "id": "Gz92FRFd4E7C",
        "colab_type": "text"
      },
      "source": [
        "# Exercise 13.2\n",
        "\n",
        "Evaluate the similarities of the homeworks of the students.\n",
        "\n",
        "At a homework level, then as a student level.\n"
      ]
    },
    {
      "cell_type": "code",
      "metadata": {
        "id": "Xufy2uLGGGM6",
        "colab_type": "code",
        "colab": {}
      },
      "source": [
        "# procedimiento para generar indicadores de similaridad entre las tareas de ls estudiantes.\n",
        "def comparacionm (matriz):\n",
        "    # arreglos en para guardar caa una de las comparaciones\n",
        "    relacion = []\n",
        "    relacion1 = []\n",
        "    localmean = []\n",
        "    # Creación del vectorizer\n",
        "    vect = CountVectorizer()\n",
        "    X_dtm = vect.fit_transform(matriz).todense()\n",
        "    # función recorre cada uno de los escritos\n",
        "    for i in range(X_dtm.shape[0]):\n",
        "      # arreglos para guardar para cada estudiante su comparación con todos los demas.\n",
        "      coseno = []\n",
        "      coseno1 = []\n",
        "      for j in range(X_dtm.shape[0]):\n",
        "        if np.isnan(1-cosine(X_dtm[i], X_dtm[j])):\n",
        "          coseno.append(0)\n",
        "        else:\n",
        "          # cálculo de la función del coseno para cada uno de los arreglos comparados\n",
        "          coseno.append((1-cosine(X_dtm[i], X_dtm[j])).tolist())\n",
        "        \n",
        "        # se descartan entre los mismos, para posteriormente calcular el promedio no tenga en cuenta el 1\n",
        "        if i!=j:\n",
        "          # adición de la relación al arreglo\n",
        "          if np.isnan(1-cosine(X_dtm[i], X_dtm[j])):\n",
        "            coseno1.append(0)\n",
        "          else:\n",
        "            coseno1.append((1-cosine(X_dtm[i], X_dtm[j])).tolist())\n",
        "\n",
        "      localmean.append((np.mean(coseno1)).tolist()) # determinación de la media por arreglo de comparación de cada estudiante\n",
        "      # adición de los vectores de comparación de cada estudiante a la matriz completa\n",
        "      relacion1.append(np.asarray(coseno1))\n",
        "      relacion.append(np.asarray(coseno))\n",
        "\n",
        "    globalmean = np.mean(localmean) # cálculo de la media para toda la matriz\n",
        "    return (relacion, localmean, globalmean)"
      ],
      "execution_count": null,
      "outputs": []
    },
    {
      "cell_type": "code",
      "metadata": {
        "id": "fIIHxXS5aHWv",
        "colab_type": "code",
        "colab": {
          "base_uri": "https://localhost:8080/",
          "height": 224
        },
        "outputId": "212e955c-5e02-4208-b5db-d59cd3017e21"
      },
      "source": [
        "# llamado de la función\n",
        "MR, RL, RG = comparacionm(tareas1)\n",
        "pd.DataFrame(MR).head()"
      ],
      "execution_count": null,
      "outputs": [
        {
          "output_type": "execute_result",
          "data": {
            "text/html": [
              "<div>\n",
              "<style scoped>\n",
              "    .dataframe tbody tr th:only-of-type {\n",
              "        vertical-align: middle;\n",
              "    }\n",
              "\n",
              "    .dataframe tbody tr th {\n",
              "        vertical-align: top;\n",
              "    }\n",
              "\n",
              "    .dataframe thead th {\n",
              "        text-align: right;\n",
              "    }\n",
              "</style>\n",
              "<table border=\"1\" class=\"dataframe\">\n",
              "  <thead>\n",
              "    <tr style=\"text-align: right;\">\n",
              "      <th></th>\n",
              "      <th>0</th>\n",
              "      <th>1</th>\n",
              "      <th>2</th>\n",
              "      <th>3</th>\n",
              "      <th>4</th>\n",
              "      <th>5</th>\n",
              "      <th>6</th>\n",
              "      <th>7</th>\n",
              "      <th>8</th>\n",
              "      <th>9</th>\n",
              "      <th>10</th>\n",
              "      <th>11</th>\n",
              "      <th>12</th>\n",
              "      <th>13</th>\n",
              "      <th>14</th>\n",
              "      <th>15</th>\n",
              "      <th>16</th>\n",
              "      <th>17</th>\n",
              "      <th>18</th>\n",
              "      <th>19</th>\n",
              "      <th>20</th>\n",
              "      <th>21</th>\n",
              "      <th>22</th>\n",
              "      <th>23</th>\n",
              "      <th>24</th>\n",
              "      <th>25</th>\n",
              "      <th>26</th>\n",
              "      <th>27</th>\n",
              "      <th>28</th>\n",
              "      <th>29</th>\n",
              "      <th>30</th>\n",
              "      <th>31</th>\n",
              "      <th>32</th>\n",
              "      <th>33</th>\n",
              "      <th>34</th>\n",
              "      <th>35</th>\n",
              "      <th>36</th>\n",
              "      <th>37</th>\n",
              "      <th>38</th>\n",
              "      <th>39</th>\n",
              "      <th>40</th>\n",
              "      <th>41</th>\n",
              "      <th>42</th>\n",
              "      <th>43</th>\n",
              "      <th>44</th>\n",
              "      <th>45</th>\n",
              "    </tr>\n",
              "  </thead>\n",
              "  <tbody>\n",
              "    <tr>\n",
              "      <th>0</th>\n",
              "      <td>1.000000</td>\n",
              "      <td>0.266083</td>\n",
              "      <td>0.581064</td>\n",
              "      <td>0.848644</td>\n",
              "      <td>0.846520</td>\n",
              "      <td>0.427594</td>\n",
              "      <td>0.268676</td>\n",
              "      <td>0.262881</td>\n",
              "      <td>0.242301</td>\n",
              "      <td>0.256696</td>\n",
              "      <td>0.273201</td>\n",
              "      <td>0.260024</td>\n",
              "      <td>0.265322</td>\n",
              "      <td>0.242676</td>\n",
              "      <td>0.263477</td>\n",
              "      <td>0.273044</td>\n",
              "      <td>0.254260</td>\n",
              "      <td>0.262265</td>\n",
              "      <td>0.474854</td>\n",
              "      <td>0.549789</td>\n",
              "      <td>0.458199</td>\n",
              "      <td>0.261540</td>\n",
              "      <td>0.278781</td>\n",
              "      <td>0.823810</td>\n",
              "      <td>0.257063</td>\n",
              "      <td>0.477266</td>\n",
              "      <td>0.767144</td>\n",
              "      <td>0.778945</td>\n",
              "      <td>0.260172</td>\n",
              "      <td>0.244719</td>\n",
              "      <td>0.267605</td>\n",
              "      <td>0.224348</td>\n",
              "      <td>0.250206</td>\n",
              "      <td>0.270820</td>\n",
              "      <td>0.268092</td>\n",
              "      <td>0.628686</td>\n",
              "      <td>0.273540</td>\n",
              "      <td>0.252846</td>\n",
              "      <td>0.820840</td>\n",
              "      <td>0.269757</td>\n",
              "      <td>0.261889</td>\n",
              "      <td>0.285517</td>\n",
              "      <td>0.267915</td>\n",
              "      <td>0.263110</td>\n",
              "      <td>0.255059</td>\n",
              "      <td>0.396689</td>\n",
              "    </tr>\n",
              "    <tr>\n",
              "      <th>1</th>\n",
              "      <td>0.266083</td>\n",
              "      <td>1.000000</td>\n",
              "      <td>0.851372</td>\n",
              "      <td>0.016180</td>\n",
              "      <td>0.020455</td>\n",
              "      <td>0.833359</td>\n",
              "      <td>0.917861</td>\n",
              "      <td>0.939677</td>\n",
              "      <td>0.925067</td>\n",
              "      <td>0.938158</td>\n",
              "      <td>0.935503</td>\n",
              "      <td>0.954230</td>\n",
              "      <td>0.932958</td>\n",
              "      <td>0.853651</td>\n",
              "      <td>0.950597</td>\n",
              "      <td>0.933641</td>\n",
              "      <td>0.957629</td>\n",
              "      <td>0.919961</td>\n",
              "      <td>0.888262</td>\n",
              "      <td>0.857575</td>\n",
              "      <td>0.884433</td>\n",
              "      <td>0.938489</td>\n",
              "      <td>0.939057</td>\n",
              "      <td>0.013004</td>\n",
              "      <td>0.913677</td>\n",
              "      <td>0.895443</td>\n",
              "      <td>0.587786</td>\n",
              "      <td>0.029834</td>\n",
              "      <td>0.927377</td>\n",
              "      <td>0.926485</td>\n",
              "      <td>0.956697</td>\n",
              "      <td>0.896244</td>\n",
              "      <td>0.933144</td>\n",
              "      <td>0.937099</td>\n",
              "      <td>0.950157</td>\n",
              "      <td>0.808821</td>\n",
              "      <td>0.932040</td>\n",
              "      <td>0.943791</td>\n",
              "      <td>0.027343</td>\n",
              "      <td>0.934273</td>\n",
              "      <td>0.925534</td>\n",
              "      <td>0.938789</td>\n",
              "      <td>0.946907</td>\n",
              "      <td>0.938928</td>\n",
              "      <td>0.952724</td>\n",
              "      <td>0.914595</td>\n",
              "    </tr>\n",
              "    <tr>\n",
              "      <th>2</th>\n",
              "      <td>0.581064</td>\n",
              "      <td>0.851372</td>\n",
              "      <td>1.000000</td>\n",
              "      <td>0.376774</td>\n",
              "      <td>0.374045</td>\n",
              "      <td>0.809827</td>\n",
              "      <td>0.811908</td>\n",
              "      <td>0.831574</td>\n",
              "      <td>0.832741</td>\n",
              "      <td>0.831569</td>\n",
              "      <td>0.830856</td>\n",
              "      <td>0.845290</td>\n",
              "      <td>0.823609</td>\n",
              "      <td>0.760744</td>\n",
              "      <td>0.831095</td>\n",
              "      <td>0.822200</td>\n",
              "      <td>0.836842</td>\n",
              "      <td>0.809306</td>\n",
              "      <td>0.874161</td>\n",
              "      <td>0.900796</td>\n",
              "      <td>0.889608</td>\n",
              "      <td>0.825157</td>\n",
              "      <td>0.838975</td>\n",
              "      <td>0.383083</td>\n",
              "      <td>0.817146</td>\n",
              "      <td>0.902779</td>\n",
              "      <td>0.782930</td>\n",
              "      <td>0.333721</td>\n",
              "      <td>0.831983</td>\n",
              "      <td>0.825214</td>\n",
              "      <td>0.847982</td>\n",
              "      <td>0.797924</td>\n",
              "      <td>0.818514</td>\n",
              "      <td>0.829640</td>\n",
              "      <td>0.838753</td>\n",
              "      <td>0.875487</td>\n",
              "      <td>0.824425</td>\n",
              "      <td>0.837078</td>\n",
              "      <td>0.373614</td>\n",
              "      <td>0.834097</td>\n",
              "      <td>0.815450</td>\n",
              "      <td>0.851262</td>\n",
              "      <td>0.848125</td>\n",
              "      <td>0.824680</td>\n",
              "      <td>0.843308</td>\n",
              "      <td>0.878329</td>\n",
              "    </tr>\n",
              "    <tr>\n",
              "      <th>3</th>\n",
              "      <td>0.848644</td>\n",
              "      <td>0.016180</td>\n",
              "      <td>0.376774</td>\n",
              "      <td>1.000000</td>\n",
              "      <td>0.908385</td>\n",
              "      <td>0.211997</td>\n",
              "      <td>0.004890</td>\n",
              "      <td>0.013825</td>\n",
              "      <td>0.003397</td>\n",
              "      <td>0.004054</td>\n",
              "      <td>0.004802</td>\n",
              "      <td>0.003846</td>\n",
              "      <td>0.007833</td>\n",
              "      <td>0.003574</td>\n",
              "      <td>0.012397</td>\n",
              "      <td>0.005454</td>\n",
              "      <td>0.003400</td>\n",
              "      <td>0.004368</td>\n",
              "      <td>0.256201</td>\n",
              "      <td>0.332152</td>\n",
              "      <td>0.241625</td>\n",
              "      <td>0.013351</td>\n",
              "      <td>0.005670</td>\n",
              "      <td>0.887399</td>\n",
              "      <td>0.003138</td>\n",
              "      <td>0.270468</td>\n",
              "      <td>0.654446</td>\n",
              "      <td>0.845196</td>\n",
              "      <td>0.003369</td>\n",
              "      <td>0.002859</td>\n",
              "      <td>0.020405</td>\n",
              "      <td>0.003363</td>\n",
              "      <td>0.004955</td>\n",
              "      <td>0.009500</td>\n",
              "      <td>0.005810</td>\n",
              "      <td>0.413782</td>\n",
              "      <td>0.005809</td>\n",
              "      <td>0.001790</td>\n",
              "      <td>0.901149</td>\n",
              "      <td>0.002376</td>\n",
              "      <td>0.009607</td>\n",
              "      <td>0.040362</td>\n",
              "      <td>0.014320</td>\n",
              "      <td>0.004884</td>\n",
              "      <td>0.006506</td>\n",
              "      <td>0.159154</td>\n",
              "    </tr>\n",
              "    <tr>\n",
              "      <th>4</th>\n",
              "      <td>0.846520</td>\n",
              "      <td>0.020455</td>\n",
              "      <td>0.374045</td>\n",
              "      <td>0.908385</td>\n",
              "      <td>1.000000</td>\n",
              "      <td>0.203028</td>\n",
              "      <td>0.006666</td>\n",
              "      <td>0.014604</td>\n",
              "      <td>0.003725</td>\n",
              "      <td>0.004146</td>\n",
              "      <td>0.005855</td>\n",
              "      <td>0.006030</td>\n",
              "      <td>0.009908</td>\n",
              "      <td>0.004329</td>\n",
              "      <td>0.014914</td>\n",
              "      <td>0.006315</td>\n",
              "      <td>0.004531</td>\n",
              "      <td>0.005756</td>\n",
              "      <td>0.245866</td>\n",
              "      <td>0.334524</td>\n",
              "      <td>0.247967</td>\n",
              "      <td>0.012529</td>\n",
              "      <td>0.007510</td>\n",
              "      <td>0.888149</td>\n",
              "      <td>0.003450</td>\n",
              "      <td>0.267005</td>\n",
              "      <td>0.646493</td>\n",
              "      <td>0.852296</td>\n",
              "      <td>0.004175</td>\n",
              "      <td>0.002438</td>\n",
              "      <td>0.025688</td>\n",
              "      <td>0.003368</td>\n",
              "      <td>0.004330</td>\n",
              "      <td>0.012283</td>\n",
              "      <td>0.007341</td>\n",
              "      <td>0.428028</td>\n",
              "      <td>0.005700</td>\n",
              "      <td>0.002096</td>\n",
              "      <td>0.893087</td>\n",
              "      <td>0.004827</td>\n",
              "      <td>0.010613</td>\n",
              "      <td>0.045700</td>\n",
              "      <td>0.015163</td>\n",
              "      <td>0.008228</td>\n",
              "      <td>0.007136</td>\n",
              "      <td>0.165236</td>\n",
              "    </tr>\n",
              "  </tbody>\n",
              "</table>\n",
              "</div>"
            ],
            "text/plain": [
              "         0         1         2   ...        43        44        45\n",
              "0  1.000000  0.266083  0.581064  ...  0.263110  0.255059  0.396689\n",
              "1  0.266083  1.000000  0.851372  ...  0.938928  0.952724  0.914595\n",
              "2  0.581064  0.851372  1.000000  ...  0.824680  0.843308  0.878329\n",
              "3  0.848644  0.016180  0.376774  ...  0.004884  0.006506  0.159154\n",
              "4  0.846520  0.020455  0.374045  ...  0.008228  0.007136  0.165236\n",
              "\n",
              "[5 rows x 46 columns]"
            ]
          },
          "metadata": {
            "tags": []
          },
          "execution_count": 29
        }
      ]
    },
    {
      "cell_type": "code",
      "metadata": {
        "id": "tnEUhGNRASxD",
        "colab_type": "code",
        "colab": {
          "base_uri": "https://localhost:8080/",
          "height": 204
        },
        "outputId": "c99498af-db64-4fa3-ef2b-8bb760a68ef4"
      },
      "source": [
        "# relación local por estudiante\n",
        "pd.DataFrame(RL).head()"
      ],
      "execution_count": null,
      "outputs": [
        {
          "output_type": "execute_result",
          "data": {
            "text/html": [
              "<div>\n",
              "<style scoped>\n",
              "    .dataframe tbody tr th:only-of-type {\n",
              "        vertical-align: middle;\n",
              "    }\n",
              "\n",
              "    .dataframe tbody tr th {\n",
              "        vertical-align: top;\n",
              "    }\n",
              "\n",
              "    .dataframe thead th {\n",
              "        text-align: right;\n",
              "    }\n",
              "</style>\n",
              "<table border=\"1\" class=\"dataframe\">\n",
              "  <thead>\n",
              "    <tr style=\"text-align: right;\">\n",
              "      <th></th>\n",
              "      <th>0</th>\n",
              "    </tr>\n",
              "  </thead>\n",
              "  <tbody>\n",
              "    <tr>\n",
              "      <th>0</th>\n",
              "      <td>0.377421</td>\n",
              "    </tr>\n",
              "    <tr>\n",
              "      <th>1</th>\n",
              "      <td>0.797442</td>\n",
              "    </tr>\n",
              "    <tr>\n",
              "      <th>2</th>\n",
              "      <td>0.777890</td>\n",
              "    </tr>\n",
              "    <tr>\n",
              "      <th>3</th>\n",
              "      <td>0.167855</td>\n",
              "    </tr>\n",
              "    <tr>\n",
              "      <th>4</th>\n",
              "      <td>0.168676</td>\n",
              "    </tr>\n",
              "  </tbody>\n",
              "</table>\n",
              "</div>"
            ],
            "text/plain": [
              "          0\n",
              "0  0.377421\n",
              "1  0.797442\n",
              "2  0.777890\n",
              "3  0.167855\n",
              "4  0.168676"
            ]
          },
          "metadata": {
            "tags": []
          },
          "execution_count": 30
        }
      ]
    },
    {
      "cell_type": "code",
      "metadata": {
        "id": "Cg3CcB1GAaLX",
        "colab_type": "code",
        "colab": {
          "base_uri": "https://localhost:8080/",
          "height": 34
        },
        "outputId": "a20edfd5-8fd4-44cf-fd9c-c09d2dbcb0db"
      },
      "source": [
        "#realción global para todos los estudiantes\n",
        "RG"
      ],
      "execution_count": null,
      "outputs": [
        {
          "output_type": "execute_result",
          "data": {
            "text/plain": [
              "0.7037929075450866"
            ]
          },
          "metadata": {
            "tags": []
          },
          "execution_count": 31
        }
      ]
    },
    {
      "cell_type": "code",
      "metadata": {
        "id": "Dw5A9GFHBW6c",
        "colab_type": "code",
        "colab": {
          "base_uri": "https://localhost:8080/",
          "height": 323
        },
        "outputId": "7293dad0-d594-471a-fb9e-80c2e32e3fc5"
      },
      "source": [
        "# Compación por tareas\n",
        "for i in range(1,7):\n",
        "  MR1, RL1, RG1 = comparacionm(tareas.iloc[:,i])\n",
        "  print(RG1)"
      ],
      "execution_count": null,
      "outputs": [
        {
          "output_type": "stream",
          "text": [
            "/usr/local/lib/python3.6/dist-packages/scipy/spatial/distance.py:720: RuntimeWarning: invalid value encountered in double_scalars\n",
            "  dist = 1.0 - uv / np.sqrt(uu * vv)\n"
          ],
          "name": "stderr"
        },
        {
          "output_type": "stream",
          "text": [
            "0.4158804983055289\n"
          ],
          "name": "stdout"
        },
        {
          "output_type": "stream",
          "text": [
            "/usr/local/lib/python3.6/dist-packages/scipy/spatial/distance.py:720: RuntimeWarning: invalid value encountered in double_scalars\n",
            "  dist = 1.0 - uv / np.sqrt(uu * vv)\n"
          ],
          "name": "stderr"
        },
        {
          "output_type": "stream",
          "text": [
            "0.47667349398130043\n"
          ],
          "name": "stdout"
        },
        {
          "output_type": "stream",
          "text": [
            "/usr/local/lib/python3.6/dist-packages/scipy/spatial/distance.py:720: RuntimeWarning: invalid value encountered in double_scalars\n",
            "  dist = 1.0 - uv / np.sqrt(uu * vv)\n"
          ],
          "name": "stderr"
        },
        {
          "output_type": "stream",
          "text": [
            "0.49252304333588265\n"
          ],
          "name": "stdout"
        },
        {
          "output_type": "stream",
          "text": [
            "/usr/local/lib/python3.6/dist-packages/scipy/spatial/distance.py:720: RuntimeWarning: invalid value encountered in double_scalars\n",
            "  dist = 1.0 - uv / np.sqrt(uu * vv)\n"
          ],
          "name": "stderr"
        },
        {
          "output_type": "stream",
          "text": [
            "0.36455512110180466\n"
          ],
          "name": "stdout"
        },
        {
          "output_type": "stream",
          "text": [
            "/usr/local/lib/python3.6/dist-packages/scipy/spatial/distance.py:720: RuntimeWarning: invalid value encountered in double_scalars\n",
            "  dist = 1.0 - uv / np.sqrt(uu * vv)\n"
          ],
          "name": "stderr"
        },
        {
          "output_type": "stream",
          "text": [
            "0.5810439775714207\n"
          ],
          "name": "stdout"
        },
        {
          "output_type": "stream",
          "text": [
            "/usr/local/lib/python3.6/dist-packages/scipy/spatial/distance.py:720: RuntimeWarning: invalid value encountered in double_scalars\n",
            "  dist = 1.0 - uv / np.sqrt(uu * vv)\n"
          ],
          "name": "stderr"
        },
        {
          "output_type": "stream",
          "text": [
            "0.03624661291411111\n"
          ],
          "name": "stdout"
        }
      ]
    },
    {
      "cell_type": "markdown",
      "metadata": {
        "id": "xWdkhUFz4E7Y",
        "colab_type": "text"
      },
      "source": [
        "# Exercise 13.3\n",
        "\n",
        "Create a classifier to predict the gender of each student\n",
        "\n"
      ]
    },
    {
      "cell_type": "code",
      "metadata": {
        "id": "wqHsCwtwrpiw",
        "colab_type": "code",
        "colab": {}
      },
      "source": [
        "# librerias de árboles\n",
        "\n",
        "from sklearn.model_selection import train_test_split\n",
        "from sklearn.ensemble import RandomForestClassifier\n",
        "from sklearn.model_selection import GridSearchCV\n",
        "from sklearn.tree import DecisionTreeClassifier\n",
        "from sklearn.preprocessing import LabelBinarizer\n",
        "\n",
        "\n",
        "# gradient boosting\n",
        "\n",
        "# scikit-learn k-fold\n",
        "from sklearn.model_selection import KFold"
      ],
      "execution_count": 179,
      "outputs": []
    },
    {
      "cell_type": "code",
      "metadata": {
        "id": "qvm7OuY5zQ0n",
        "colab_type": "code",
        "colab": {
          "base_uri": "https://localhost:8080/",
          "height": 363
        },
        "outputId": "2733fcf2-1044-4236-a996-9160e57189f9"
      },
      "source": [
        "tareas.head(3)"
      ],
      "execution_count": 204,
      "outputs": [
        {
          "output_type": "execute_result",
          "data": {
            "text/html": [
              "<div>\n",
              "<style scoped>\n",
              "    .dataframe tbody tr th:only-of-type {\n",
              "        vertical-align: middle;\n",
              "    }\n",
              "\n",
              "    .dataframe tbody tr th {\n",
              "        vertical-align: top;\n",
              "    }\n",
              "\n",
              "    .dataframe thead th {\n",
              "        text-align: right;\n",
              "    }\n",
              "</style>\n",
              "<table border=\"1\" class=\"dataframe\">\n",
              "  <thead>\n",
              "    <tr style=\"text-align: right;\">\n",
              "      <th></th>\n",
              "      <th>Genero</th>\n",
              "      <th>E1 - Examples of Time Series Analysis</th>\n",
              "      <th>E4 - Panel Data</th>\n",
              "      <th>E6 - Decison Trees</th>\n",
              "      <th>E8 - Ensemble Trees Overview</th>\n",
              "      <th>E10 - REST-API</th>\n",
              "      <th>E11 - Natural Language Processing Overview</th>\n",
              "      <th>texto</th>\n",
              "      <th>npalabras</th>\n",
              "      <th>Idioma_Predominante</th>\n",
              "    </tr>\n",
              "  </thead>\n",
              "  <tbody>\n",
              "    <tr>\n",
              "      <th>0</th>\n",
              "      <td>M</td>\n",
              "      <td>One of the most valuable application of time s...</td>\n",
              "      <td>The main difference between panel data and tim...</td>\n",
              "      <td>Decision tree are a model used by the analytic...</td>\n",
              "      <td>They are used to make a better prediction than...</td>\n",
              "      <td>Es una forma de arquitectura de datos. Los mic...</td>\n",
              "      <td></td>\n",
              "      <td>One of the most valuable application of time s...</td>\n",
              "      <td>1287</td>\n",
              "      <td>en</td>\n",
              "    </tr>\n",
              "    <tr>\n",
              "      <th>1</th>\n",
              "      <td>F</td>\n",
              "      <td>ANÁLISIS DE SERIES DE TIEMPO – USOS \\nEl análi...</td>\n",
              "      <td>Series de Tiempo vs Datos en Panel\\nUna serie ...</td>\n",
              "      <td>TIPOS DE ÁRBOLES DE DECISIÓN Y APLICACIONES\\nL...</td>\n",
              "      <td>ENSAMBLAJE EN MACHINE LEARNING\\nLos métodos de...</td>\n",
              "      <td>Microservicios\\nEl objetivo principal de la im...</td>\n",
              "      <td></td>\n",
              "      <td>ANÁLISIS DE SERIES DE TIEMPO – USOS \\nEl análi...</td>\n",
              "      <td>1801</td>\n",
              "      <td>es</td>\n",
              "    </tr>\n",
              "    <tr>\n",
              "      <th>2</th>\n",
              "      <td>M</td>\n",
              "      <td>Una serie de tiempo es una colección de datos ...</td>\n",
              "      <td></td>\n",
              "      <td>los arboles de decisión hacen parte de los alg...</td>\n",
              "      <td>Ensemble methods is a machine learning techniq...</td>\n",
              "      <td>El enfoque tradicional para el diseño de aplic...</td>\n",
              "      <td>LexisNexis launched Lexis Analytics, a legal r...</td>\n",
              "      <td>Una serie de tiempo es una colección de datos ...</td>\n",
              "      <td>1422</td>\n",
              "      <td>es</td>\n",
              "    </tr>\n",
              "  </tbody>\n",
              "</table>\n",
              "</div>"
            ],
            "text/plain": [
              "  Genero  ... Idioma_Predominante\n",
              "0      M  ...                  en\n",
              "1      F  ...                  es\n",
              "2      M  ...                  es\n",
              "\n",
              "[3 rows x 10 columns]"
            ]
          },
          "metadata": {
            "tags": []
          },
          "execution_count": 204
        }
      ]
    },
    {
      "cell_type": "code",
      "metadata": {
        "id": "kKsZMikJxT5C",
        "colab_type": "code",
        "colab": {
          "base_uri": "https://localhost:8080/",
          "height": 346
        },
        "outputId": "8f8f1d96-0d3e-4e8e-fb0e-f91fd5d6c04b"
      },
      "source": [
        "# creación de columna binaria, dice si el idioma predominante es ingles o español\n",
        "# Si 0 es ingles, si 1 es español\n",
        "lb_style=LabelBinarizer()\n",
        "#conversión de la columna\n",
        "lb_results=lb_style.fit_transform(tareas.iloc[:, 9])\n",
        "convertidos=pd.DataFrame(lb_results)#, columns=lb_style.classes_) # transformación a dataframe\n",
        "convertidos = convertidos.rename(columns={0: \"Espanol\"})\n",
        "\n",
        "# unión de la columna nueva y eliminación de la columna en nombre\n",
        "df=tareas.drop(['Idioma_Predominante'], axis=1)\n",
        "df=pd.concat([df, convertidos], axis=1)\n",
        "df.head(3)\n"
      ],
      "execution_count": 205,
      "outputs": [
        {
          "output_type": "execute_result",
          "data": {
            "text/html": [
              "<div>\n",
              "<style scoped>\n",
              "    .dataframe tbody tr th:only-of-type {\n",
              "        vertical-align: middle;\n",
              "    }\n",
              "\n",
              "    .dataframe tbody tr th {\n",
              "        vertical-align: top;\n",
              "    }\n",
              "\n",
              "    .dataframe thead th {\n",
              "        text-align: right;\n",
              "    }\n",
              "</style>\n",
              "<table border=\"1\" class=\"dataframe\">\n",
              "  <thead>\n",
              "    <tr style=\"text-align: right;\">\n",
              "      <th></th>\n",
              "      <th>Genero</th>\n",
              "      <th>E1 - Examples of Time Series Analysis</th>\n",
              "      <th>E4 - Panel Data</th>\n",
              "      <th>E6 - Decison Trees</th>\n",
              "      <th>E8 - Ensemble Trees Overview</th>\n",
              "      <th>E10 - REST-API</th>\n",
              "      <th>E11 - Natural Language Processing Overview</th>\n",
              "      <th>texto</th>\n",
              "      <th>npalabras</th>\n",
              "      <th>Espanol</th>\n",
              "    </tr>\n",
              "  </thead>\n",
              "  <tbody>\n",
              "    <tr>\n",
              "      <th>0</th>\n",
              "      <td>M</td>\n",
              "      <td>One of the most valuable application of time s...</td>\n",
              "      <td>The main difference between panel data and tim...</td>\n",
              "      <td>Decision tree are a model used by the analytic...</td>\n",
              "      <td>They are used to make a better prediction than...</td>\n",
              "      <td>Es una forma de arquitectura de datos. Los mic...</td>\n",
              "      <td></td>\n",
              "      <td>One of the most valuable application of time s...</td>\n",
              "      <td>1287</td>\n",
              "      <td>0</td>\n",
              "    </tr>\n",
              "    <tr>\n",
              "      <th>1</th>\n",
              "      <td>F</td>\n",
              "      <td>ANÁLISIS DE SERIES DE TIEMPO – USOS \\nEl análi...</td>\n",
              "      <td>Series de Tiempo vs Datos en Panel\\nUna serie ...</td>\n",
              "      <td>TIPOS DE ÁRBOLES DE DECISIÓN Y APLICACIONES\\nL...</td>\n",
              "      <td>ENSAMBLAJE EN MACHINE LEARNING\\nLos métodos de...</td>\n",
              "      <td>Microservicios\\nEl objetivo principal de la im...</td>\n",
              "      <td></td>\n",
              "      <td>ANÁLISIS DE SERIES DE TIEMPO – USOS \\nEl análi...</td>\n",
              "      <td>1801</td>\n",
              "      <td>1</td>\n",
              "    </tr>\n",
              "    <tr>\n",
              "      <th>2</th>\n",
              "      <td>M</td>\n",
              "      <td>Una serie de tiempo es una colección de datos ...</td>\n",
              "      <td></td>\n",
              "      <td>los arboles de decisión hacen parte de los alg...</td>\n",
              "      <td>Ensemble methods is a machine learning techniq...</td>\n",
              "      <td>El enfoque tradicional para el diseño de aplic...</td>\n",
              "      <td>LexisNexis launched Lexis Analytics, a legal r...</td>\n",
              "      <td>Una serie de tiempo es una colección de datos ...</td>\n",
              "      <td>1422</td>\n",
              "      <td>1</td>\n",
              "    </tr>\n",
              "  </tbody>\n",
              "</table>\n",
              "</div>"
            ],
            "text/plain": [
              "  Genero              E1 - Examples of Time Series Analysis  ... npalabras Espanol\n",
              "0      M  One of the most valuable application of time s...  ...      1287       0\n",
              "1      F  ANÁLISIS DE SERIES DE TIEMPO – USOS \\nEl análi...  ...      1801       1\n",
              "2      M  Una serie de tiempo es una colección de datos ...  ...      1422       1\n",
              "\n",
              "[3 rows x 10 columns]"
            ]
          },
          "metadata": {
            "tags": []
          },
          "execution_count": 205
        }
      ]
    },
    {
      "cell_type": "code",
      "metadata": {
        "id": "vuH-iv7jAYqG",
        "colab_type": "code",
        "colab": {
          "base_uri": "https://localhost:8080/",
          "height": 51
        },
        "outputId": "3250c2be-cd5c-4dd6-9bc1-b8f2bc545687"
      },
      "source": [
        "import nltk\n",
        "nltk.download('stopwords')\n",
        "from nltk.corpus import stopwords"
      ],
      "execution_count": 206,
      "outputs": [
        {
          "output_type": "stream",
          "text": [
            "[nltk_data] Downloading package stopwords to /root/nltk_data...\n",
            "[nltk_data]   Package stopwords is already up-to-date!\n"
          ],
          "name": "stdout"
        }
      ]
    },
    {
      "cell_type": "code",
      "metadata": {
        "id": "Y3tJnWj2FbP3",
        "colab_type": "code",
        "colab": {}
      },
      "source": [
        "# creación de diccionario de stopwords\n",
        "Idioma1 = nltk.corpus.stopwords.words('english')\n",
        "Idioma2 = nltk.corpus.stopwords.words('spanish')\n",
        "Idiomas= Idioma1 + Idioma2"
      ],
      "execution_count": 207,
      "outputs": []
    },
    {
      "cell_type": "code",
      "metadata": {
        "id": "Ew-IYyhI70IT",
        "colab_type": "code",
        "colab": {
          "base_uri": "https://localhost:8080/",
          "height": 54
        },
        "outputId": "f1494801-f875-4361-bdbf-7894364bd82b"
      },
      "source": [
        "#vect = CountVectorizer(stop_words = frozenset([\"word1\", \"word2\",\"word3\"]))\n",
        "vect = CountVectorizer(stop_words=Idiomas)\n",
        "print(vect.get_stop_words())\n"
      ],
      "execution_count": 208,
      "outputs": [
        {
          "output_type": "stream",
          "text": [
            "frozenset({'habida', \"you're\", 'estaríamos', \"doesn't\", 'hayáis', 'habrán', 'can', 'hasn', 'what', 'habréis', 'while', 'the', 'los', 'tuyas', 'desde', 'being', 'estáis', 'sería', 'ya', 'down', 'these', 'estadas', 'estoy', \"hasn't\", 'tus', 'hadn', 'estuvieras', 'sentidos', 'does', 'myself', 'algo', 'under', 'habíamos', 'están', 'un', 'fuimos', 'le', 'tienes', \"it's\", 'too', 'estarán', 'against', 'couldn', 'tenido', 'una', \"mustn't\", 'seré', 'se', 'be', 'hubiste', 'will', 'or', 'habidas', 'tuviésemos', 'out', 'estaría', 'esa', 'estarían', 'in', 'there', 'estaban', 'tuvieses', 'vuestra', 'muy', 'las', 'between', 'estarás', 'tenida', 'ours', 'mustn', 'where', 'her', 'tengo', 'only', 'nuestros', 'sean', 'who', 'into', 'será', 'themselves', 'tuvieran', 'nor', 'nos', 'ellas', 'when', 'shouldn', \"mightn't\", 'tuvieron', 'tienen', 'unos', 'fuéramos', 'nada', 'tuvieras', 'now', 'nosotros', 'few', 'antes', 'fui', \"shouldn't\", 'habrías', 'wouldn', 'tendréis', 'tuyos', 'fue', 'yours', 'that', 'isn', 'tengáis', 'tendría', 'estuvisteis', 't', 'then', 'should', 'esas', 'esto', 'am', 'not', 'on', 'again', 'which', 'estuviste', 'sentido', 'con', 'ante', 'sin', \"couldn't\", \"you've\", 'wasn', 'all', 'el', 'mío', 'his', 'pero', 'seas', 'estuvieseis', 'tengas', 'each', 'fuiste', 'teníais', 'tuya', 'from', 'suya', 'hubiésemos', 'estaba', 'estamos', 'why', 'seremos', 'sois', 'habido', 'habríamos', 'más', 'we', 'needn', 'fueras', 'que', 'habiendo', 'ni', 'estuvieron', 'didn', 'tuve', 'tendré', 'nuestro', 'de', \"that'll\", 'había', 'donde', 'than', \"haven't\", 'did', 'some', 'míos', 'vosotras', 'somos', 're', 'o', 'estuviésemos', 'haya', 'mi', 'suyas', 'esta', 'por', 'other', 'quienes', 'tuvisteis', 'as', 'estado', 'hubiese', 'serías', 'your', \"aren't\", 'no', 'tenéis', 'hubieran', 'but', 'vosotros', 'ha', 'estos', \"isn't\", 'my', 'doesn', 'habrá', 've', 'ella', 'hubieses', 'habrás', 'lo', 'contra', 'tuviste', 'more', 'ti', 'éramos', 'have', 'hubiesen', 'habidos', 'durante', 'al', 'uno', 'just', 'eres', 'eras', 'esté', 'otros', 'suyos', 'doing', 'también', 'qué', 'tuviese', 'is', 'estuviera', 'estuvo', 'entre', 'ese', 'sea', 'tenían', 'our', 'until', 'them', 'algunas', 'tuvieseis', 'tenidas', 'del', 'estar', 'do', 'haven', 'such', 'vuestro', 'tendrían', 'mí', 'won', 'e', 'nuestra', 'otro', 'are', 'habré', 'habría', 'm', 'same', 'aren', 'you', 'hubieseis', 'about', 'don', \"hadn't\", 'seréis', 'tu', 'tenga', 'tanto', 'tendríais', 'an', 'él', 'mightn', 'tuviera', 'theirs', 'for', 'once', 'seríais', \"shan't\", 'la', 'hube', 'hubo', 'tenemos', 'fuésemos', 'esos', 'i', 'himself', 'hemos', 'a', 'tuvo', 's', 'estuvieses', 'tuviéramos', 'hubisteis', 'their', 'fuisteis', 'tendrá', 'teníamos', 'tengan', 'serían', 'estabais', 'fueron', 'tenías', 'its', 'cuando', 'otra', 'habremos', \"she's\", 'hayan', 'seamos', 'fuese', 'este', 'sus', 'off', 'estuvimos', 'habíais', 'fueseis', 'estás', 'because', 'todos', 'up', 'algunos', 'estábamos', 'with', 'estando', 'fuerais', 'he', 'poco', 'seáis', 'vuestras', 'estuviese', 'habéis', 'habían', 'any', 'before', 'of', 'those', 'habías', 'above', 'era', 'during', 'estará', 'su', 'had', \"didn't\", 'hubieron', 'soy', 'como', 'tened', 'estuvieran', 'hubieras', 'here', 'me', \"wasn't\", 'mis', 'tiene', 'own', 'ain', 'sí', 'tengamos', 'han', \"won't\", 'mucho', 'habríais', 'been', 'so', 'hasta', 'both', 'porque', 'tuviesen', 'at', 'vuestros', 'ma', 'hubierais', \"needn't\", 'hers', 'cual', 'estén', 'para', 'hubiéramos', 'by', 'mía', 'sintiendo', 'estuve', 'otras', 'habrían', 'she', 'estaré', 'fuera', 'tenidos', \"you'd\", 'if', 'estada', 'estaréis', 'below', 'tenía', 'hayamos', 'this', 'll', 'les', 'it', 'and', 'serás', 'herself', 'estéis', 'son', 'fuesen', \"you'll\", 'todo', 'estuviesen', 'sentida', 'sentidas', 'yourselves', 'estuvierais', 'teniendo', \"don't\", 'to', 'estuviéramos', 'they', 'estés', 'ellos', 'estad', 'most', 'estaríais', 'tendrás', 'were', \"should've\", \"weren't\", 'sobre', 'estas', 'quien', 'tendrán', 'estemos', 'muchos', 'over', 'has', 'tuyo', 'yourself', 'nuestras', 'through', 'os', 'hubimos', 'yo', 'suyo', 'en', 'ourselves', 'te', 'siente', 'tuvimos', 'tuvierais', 'está', 'how', 'itself', 'weren', 'serán', 'erais', 'him', 'es', 'shan', 'estaremos', 'after', 'mías', 'tendrías', 'very', 'seríamos', 'y', 'nosotras', 'hubiera', 'tendremos', 'fueran', 'fueses', 'd', \"wouldn't\", 'hayas', 'tú', 'further', 'eso', 'hay', 'tendríamos', 'estabas', 'having', 'whom', 'sentid', 'estados', 'estarías', 'was', 'eran'})\n"
          ],
          "name": "stdout"
        }
      ]
    },
    {
      "cell_type": "code",
      "metadata": {
        "id": "xXFOMhQ99Aom",
        "colab_type": "code",
        "colab": {
          "base_uri": "https://localhost:8080/",
          "height": 191
        },
        "outputId": "59d43074-8d3c-4acd-d86d-08ee24be7177"
      },
      "source": [
        "  X_dtm = vect.fit_transform(tareas1).todense()\n",
        "  X_dtm1 = pd.DataFrame(X_dtm)\n",
        "  X_dtm1.head(3)"
      ],
      "execution_count": 212,
      "outputs": [
        {
          "output_type": "execute_result",
          "data": {
            "text/html": [
              "<div>\n",
              "<style scoped>\n",
              "    .dataframe tbody tr th:only-of-type {\n",
              "        vertical-align: middle;\n",
              "    }\n",
              "\n",
              "    .dataframe tbody tr th {\n",
              "        vertical-align: top;\n",
              "    }\n",
              "\n",
              "    .dataframe thead th {\n",
              "        text-align: right;\n",
              "    }\n",
              "</style>\n",
              "<table border=\"1\" class=\"dataframe\">\n",
              "  <thead>\n",
              "    <tr style=\"text-align: right;\">\n",
              "      <th></th>\n",
              "      <th>0</th>\n",
              "      <th>1</th>\n",
              "      <th>2</th>\n",
              "      <th>3</th>\n",
              "      <th>4</th>\n",
              "      <th>5</th>\n",
              "      <th>6</th>\n",
              "      <th>7</th>\n",
              "      <th>8</th>\n",
              "      <th>9</th>\n",
              "      <th>10</th>\n",
              "      <th>11</th>\n",
              "      <th>12</th>\n",
              "      <th>13</th>\n",
              "      <th>14</th>\n",
              "      <th>15</th>\n",
              "      <th>16</th>\n",
              "      <th>17</th>\n",
              "      <th>18</th>\n",
              "      <th>19</th>\n",
              "      <th>20</th>\n",
              "      <th>21</th>\n",
              "      <th>22</th>\n",
              "      <th>23</th>\n",
              "      <th>24</th>\n",
              "      <th>25</th>\n",
              "      <th>26</th>\n",
              "      <th>27</th>\n",
              "      <th>28</th>\n",
              "      <th>29</th>\n",
              "      <th>30</th>\n",
              "      <th>31</th>\n",
              "      <th>32</th>\n",
              "      <th>33</th>\n",
              "      <th>34</th>\n",
              "      <th>35</th>\n",
              "      <th>36</th>\n",
              "      <th>37</th>\n",
              "      <th>38</th>\n",
              "      <th>39</th>\n",
              "      <th>...</th>\n",
              "      <th>7286</th>\n",
              "      <th>7287</th>\n",
              "      <th>7288</th>\n",
              "      <th>7289</th>\n",
              "      <th>7290</th>\n",
              "      <th>7291</th>\n",
              "      <th>7292</th>\n",
              "      <th>7293</th>\n",
              "      <th>7294</th>\n",
              "      <th>7295</th>\n",
              "      <th>7296</th>\n",
              "      <th>7297</th>\n",
              "      <th>7298</th>\n",
              "      <th>7299</th>\n",
              "      <th>7300</th>\n",
              "      <th>7301</th>\n",
              "      <th>7302</th>\n",
              "      <th>7303</th>\n",
              "      <th>7304</th>\n",
              "      <th>7305</th>\n",
              "      <th>7306</th>\n",
              "      <th>7307</th>\n",
              "      <th>7308</th>\n",
              "      <th>7309</th>\n",
              "      <th>7310</th>\n",
              "      <th>7311</th>\n",
              "      <th>7312</th>\n",
              "      <th>7313</th>\n",
              "      <th>7314</th>\n",
              "      <th>7315</th>\n",
              "      <th>7316</th>\n",
              "      <th>7317</th>\n",
              "      <th>7318</th>\n",
              "      <th>7319</th>\n",
              "      <th>7320</th>\n",
              "      <th>7321</th>\n",
              "      <th>7322</th>\n",
              "      <th>7323</th>\n",
              "      <th>7324</th>\n",
              "      <th>7325</th>\n",
              "    </tr>\n",
              "  </thead>\n",
              "  <tbody>\n",
              "    <tr>\n",
              "      <th>0</th>\n",
              "      <td>0</td>\n",
              "      <td>0</td>\n",
              "      <td>0</td>\n",
              "      <td>0</td>\n",
              "      <td>0</td>\n",
              "      <td>0</td>\n",
              "      <td>0</td>\n",
              "      <td>1</td>\n",
              "      <td>0</td>\n",
              "      <td>0</td>\n",
              "      <td>0</td>\n",
              "      <td>0</td>\n",
              "      <td>0</td>\n",
              "      <td>0</td>\n",
              "      <td>0</td>\n",
              "      <td>0</td>\n",
              "      <td>0</td>\n",
              "      <td>0</td>\n",
              "      <td>0</td>\n",
              "      <td>0</td>\n",
              "      <td>0</td>\n",
              "      <td>0</td>\n",
              "      <td>0</td>\n",
              "      <td>0</td>\n",
              "      <td>0</td>\n",
              "      <td>0</td>\n",
              "      <td>0</td>\n",
              "      <td>0</td>\n",
              "      <td>0</td>\n",
              "      <td>0</td>\n",
              "      <td>0</td>\n",
              "      <td>0</td>\n",
              "      <td>0</td>\n",
              "      <td>0</td>\n",
              "      <td>0</td>\n",
              "      <td>0</td>\n",
              "      <td>0</td>\n",
              "      <td>0</td>\n",
              "      <td>0</td>\n",
              "      <td>0</td>\n",
              "      <td>...</td>\n",
              "      <td>0</td>\n",
              "      <td>0</td>\n",
              "      <td>0</td>\n",
              "      <td>0</td>\n",
              "      <td>0</td>\n",
              "      <td>0</td>\n",
              "      <td>0</td>\n",
              "      <td>0</td>\n",
              "      <td>0</td>\n",
              "      <td>0</td>\n",
              "      <td>0</td>\n",
              "      <td>0</td>\n",
              "      <td>0</td>\n",
              "      <td>0</td>\n",
              "      <td>0</td>\n",
              "      <td>0</td>\n",
              "      <td>0</td>\n",
              "      <td>0</td>\n",
              "      <td>0</td>\n",
              "      <td>0</td>\n",
              "      <td>0</td>\n",
              "      <td>0</td>\n",
              "      <td>0</td>\n",
              "      <td>0</td>\n",
              "      <td>0</td>\n",
              "      <td>0</td>\n",
              "      <td>0</td>\n",
              "      <td>0</td>\n",
              "      <td>0</td>\n",
              "      <td>0</td>\n",
              "      <td>0</td>\n",
              "      <td>0</td>\n",
              "      <td>0</td>\n",
              "      <td>0</td>\n",
              "      <td>0</td>\n",
              "      <td>0</td>\n",
              "      <td>0</td>\n",
              "      <td>0</td>\n",
              "      <td>0</td>\n",
              "      <td>0</td>\n",
              "    </tr>\n",
              "    <tr>\n",
              "      <th>1</th>\n",
              "      <td>0</td>\n",
              "      <td>0</td>\n",
              "      <td>0</td>\n",
              "      <td>0</td>\n",
              "      <td>1</td>\n",
              "      <td>0</td>\n",
              "      <td>0</td>\n",
              "      <td>0</td>\n",
              "      <td>0</td>\n",
              "      <td>0</td>\n",
              "      <td>0</td>\n",
              "      <td>0</td>\n",
              "      <td>0</td>\n",
              "      <td>1</td>\n",
              "      <td>0</td>\n",
              "      <td>0</td>\n",
              "      <td>0</td>\n",
              "      <td>0</td>\n",
              "      <td>1</td>\n",
              "      <td>0</td>\n",
              "      <td>0</td>\n",
              "      <td>0</td>\n",
              "      <td>0</td>\n",
              "      <td>0</td>\n",
              "      <td>1</td>\n",
              "      <td>0</td>\n",
              "      <td>0</td>\n",
              "      <td>0</td>\n",
              "      <td>0</td>\n",
              "      <td>0</td>\n",
              "      <td>0</td>\n",
              "      <td>0</td>\n",
              "      <td>0</td>\n",
              "      <td>1</td>\n",
              "      <td>0</td>\n",
              "      <td>0</td>\n",
              "      <td>0</td>\n",
              "      <td>0</td>\n",
              "      <td>0</td>\n",
              "      <td>0</td>\n",
              "      <td>...</td>\n",
              "      <td>0</td>\n",
              "      <td>0</td>\n",
              "      <td>0</td>\n",
              "      <td>1</td>\n",
              "      <td>0</td>\n",
              "      <td>0</td>\n",
              "      <td>1</td>\n",
              "      <td>9</td>\n",
              "      <td>0</td>\n",
              "      <td>0</td>\n",
              "      <td>0</td>\n",
              "      <td>0</td>\n",
              "      <td>0</td>\n",
              "      <td>0</td>\n",
              "      <td>0</td>\n",
              "      <td>0</td>\n",
              "      <td>0</td>\n",
              "      <td>0</td>\n",
              "      <td>0</td>\n",
              "      <td>3</td>\n",
              "      <td>0</td>\n",
              "      <td>0</td>\n",
              "      <td>0</td>\n",
              "      <td>0</td>\n",
              "      <td>0</td>\n",
              "      <td>0</td>\n",
              "      <td>0</td>\n",
              "      <td>0</td>\n",
              "      <td>1</td>\n",
              "      <td>0</td>\n",
              "      <td>1</td>\n",
              "      <td>0</td>\n",
              "      <td>1</td>\n",
              "      <td>1</td>\n",
              "      <td>1</td>\n",
              "      <td>0</td>\n",
              "      <td>0</td>\n",
              "      <td>0</td>\n",
              "      <td>0</td>\n",
              "      <td>0</td>\n",
              "    </tr>\n",
              "    <tr>\n",
              "      <th>2</th>\n",
              "      <td>0</td>\n",
              "      <td>0</td>\n",
              "      <td>1</td>\n",
              "      <td>0</td>\n",
              "      <td>0</td>\n",
              "      <td>0</td>\n",
              "      <td>0</td>\n",
              "      <td>0</td>\n",
              "      <td>0</td>\n",
              "      <td>0</td>\n",
              "      <td>0</td>\n",
              "      <td>0</td>\n",
              "      <td>0</td>\n",
              "      <td>0</td>\n",
              "      <td>0</td>\n",
              "      <td>0</td>\n",
              "      <td>0</td>\n",
              "      <td>0</td>\n",
              "      <td>0</td>\n",
              "      <td>0</td>\n",
              "      <td>0</td>\n",
              "      <td>0</td>\n",
              "      <td>0</td>\n",
              "      <td>0</td>\n",
              "      <td>0</td>\n",
              "      <td>0</td>\n",
              "      <td>0</td>\n",
              "      <td>0</td>\n",
              "      <td>0</td>\n",
              "      <td>0</td>\n",
              "      <td>0</td>\n",
              "      <td>0</td>\n",
              "      <td>0</td>\n",
              "      <td>0</td>\n",
              "      <td>0</td>\n",
              "      <td>0</td>\n",
              "      <td>0</td>\n",
              "      <td>0</td>\n",
              "      <td>0</td>\n",
              "      <td>0</td>\n",
              "      <td>...</td>\n",
              "      <td>0</td>\n",
              "      <td>0</td>\n",
              "      <td>0</td>\n",
              "      <td>0</td>\n",
              "      <td>0</td>\n",
              "      <td>0</td>\n",
              "      <td>0</td>\n",
              "      <td>0</td>\n",
              "      <td>0</td>\n",
              "      <td>0</td>\n",
              "      <td>0</td>\n",
              "      <td>0</td>\n",
              "      <td>0</td>\n",
              "      <td>0</td>\n",
              "      <td>0</td>\n",
              "      <td>0</td>\n",
              "      <td>0</td>\n",
              "      <td>0</td>\n",
              "      <td>0</td>\n",
              "      <td>0</td>\n",
              "      <td>0</td>\n",
              "      <td>0</td>\n",
              "      <td>0</td>\n",
              "      <td>0</td>\n",
              "      <td>0</td>\n",
              "      <td>0</td>\n",
              "      <td>0</td>\n",
              "      <td>0</td>\n",
              "      <td>0</td>\n",
              "      <td>0</td>\n",
              "      <td>0</td>\n",
              "      <td>0</td>\n",
              "      <td>0</td>\n",
              "      <td>0</td>\n",
              "      <td>0</td>\n",
              "      <td>0</td>\n",
              "      <td>0</td>\n",
              "      <td>0</td>\n",
              "      <td>0</td>\n",
              "      <td>0</td>\n",
              "    </tr>\n",
              "  </tbody>\n",
              "</table>\n",
              "<p>3 rows × 7326 columns</p>\n",
              "</div>"
            ],
            "text/plain": [
              "   0     1     2     3     4     5     ...  7320  7321  7322  7323  7324  7325\n",
              "0     0     0     0     0     0     0  ...     0     0     0     0     0     0\n",
              "1     0     0     0     0     1     0  ...     1     0     0     0     0     0\n",
              "2     0     0     1     0     0     0  ...     0     0     0     0     0     0\n",
              "\n",
              "[3 rows x 7326 columns]"
            ]
          },
          "metadata": {
            "tags": []
          },
          "execution_count": 212
        }
      ]
    },
    {
      "cell_type": "code",
      "metadata": {
        "id": "Xgybr-m21Hgs",
        "colab_type": "code",
        "colab": {
          "base_uri": "https://localhost:8080/",
          "height": 363
        },
        "outputId": "a8586736-3a69-4cf8-a252-dc3df9bdf972"
      },
      "source": [
        "tareas.head(3)"
      ],
      "execution_count": 213,
      "outputs": [
        {
          "output_type": "execute_result",
          "data": {
            "text/html": [
              "<div>\n",
              "<style scoped>\n",
              "    .dataframe tbody tr th:only-of-type {\n",
              "        vertical-align: middle;\n",
              "    }\n",
              "\n",
              "    .dataframe tbody tr th {\n",
              "        vertical-align: top;\n",
              "    }\n",
              "\n",
              "    .dataframe thead th {\n",
              "        text-align: right;\n",
              "    }\n",
              "</style>\n",
              "<table border=\"1\" class=\"dataframe\">\n",
              "  <thead>\n",
              "    <tr style=\"text-align: right;\">\n",
              "      <th></th>\n",
              "      <th>Genero</th>\n",
              "      <th>E1 - Examples of Time Series Analysis</th>\n",
              "      <th>E4 - Panel Data</th>\n",
              "      <th>E6 - Decison Trees</th>\n",
              "      <th>E8 - Ensemble Trees Overview</th>\n",
              "      <th>E10 - REST-API</th>\n",
              "      <th>E11 - Natural Language Processing Overview</th>\n",
              "      <th>texto</th>\n",
              "      <th>npalabras</th>\n",
              "      <th>Idioma_Predominante</th>\n",
              "    </tr>\n",
              "  </thead>\n",
              "  <tbody>\n",
              "    <tr>\n",
              "      <th>0</th>\n",
              "      <td>M</td>\n",
              "      <td>One of the most valuable application of time s...</td>\n",
              "      <td>The main difference between panel data and tim...</td>\n",
              "      <td>Decision tree are a model used by the analytic...</td>\n",
              "      <td>They are used to make a better prediction than...</td>\n",
              "      <td>Es una forma de arquitectura de datos. Los mic...</td>\n",
              "      <td></td>\n",
              "      <td>One of the most valuable application of time s...</td>\n",
              "      <td>1287</td>\n",
              "      <td>en</td>\n",
              "    </tr>\n",
              "    <tr>\n",
              "      <th>1</th>\n",
              "      <td>F</td>\n",
              "      <td>ANÁLISIS DE SERIES DE TIEMPO – USOS \\nEl análi...</td>\n",
              "      <td>Series de Tiempo vs Datos en Panel\\nUna serie ...</td>\n",
              "      <td>TIPOS DE ÁRBOLES DE DECISIÓN Y APLICACIONES\\nL...</td>\n",
              "      <td>ENSAMBLAJE EN MACHINE LEARNING\\nLos métodos de...</td>\n",
              "      <td>Microservicios\\nEl objetivo principal de la im...</td>\n",
              "      <td></td>\n",
              "      <td>ANÁLISIS DE SERIES DE TIEMPO – USOS \\nEl análi...</td>\n",
              "      <td>1801</td>\n",
              "      <td>es</td>\n",
              "    </tr>\n",
              "    <tr>\n",
              "      <th>2</th>\n",
              "      <td>M</td>\n",
              "      <td>Una serie de tiempo es una colección de datos ...</td>\n",
              "      <td></td>\n",
              "      <td>los arboles de decisión hacen parte de los alg...</td>\n",
              "      <td>Ensemble methods is a machine learning techniq...</td>\n",
              "      <td>El enfoque tradicional para el diseño de aplic...</td>\n",
              "      <td>LexisNexis launched Lexis Analytics, a legal r...</td>\n",
              "      <td>Una serie de tiempo es una colección de datos ...</td>\n",
              "      <td>1422</td>\n",
              "      <td>es</td>\n",
              "    </tr>\n",
              "  </tbody>\n",
              "</table>\n",
              "</div>"
            ],
            "text/plain": [
              "  Genero  ... Idioma_Predominante\n",
              "0      M  ...                  en\n",
              "1      F  ...                  es\n",
              "2      M  ...                  es\n",
              "\n",
              "[3 rows x 10 columns]"
            ]
          },
          "metadata": {
            "tags": []
          },
          "execution_count": 213
        }
      ]
    },
    {
      "cell_type": "code",
      "metadata": {
        "id": "RSmUshwP2t8s",
        "colab_type": "code",
        "colab": {
          "base_uri": "https://localhost:8080/",
          "height": 191
        },
        "outputId": "957a42ec-c328-40a6-e884-34e7457b687d"
      },
      "source": [
        "# unión de los dos archivos\n",
        "completo = pd.merge(  X_dtm1, df.iloc[:,8:10], left_on=X_dtm1.index, right_on=df.index)\n",
        "completo = completo.drop(['key_0'],axis=1)\n",
        "completo.head(3)"
      ],
      "execution_count": 225,
      "outputs": [
        {
          "output_type": "execute_result",
          "data": {
            "text/html": [
              "<div>\n",
              "<style scoped>\n",
              "    .dataframe tbody tr th:only-of-type {\n",
              "        vertical-align: middle;\n",
              "    }\n",
              "\n",
              "    .dataframe tbody tr th {\n",
              "        vertical-align: top;\n",
              "    }\n",
              "\n",
              "    .dataframe thead th {\n",
              "        text-align: right;\n",
              "    }\n",
              "</style>\n",
              "<table border=\"1\" class=\"dataframe\">\n",
              "  <thead>\n",
              "    <tr style=\"text-align: right;\">\n",
              "      <th></th>\n",
              "      <th>0</th>\n",
              "      <th>1</th>\n",
              "      <th>2</th>\n",
              "      <th>3</th>\n",
              "      <th>4</th>\n",
              "      <th>5</th>\n",
              "      <th>6</th>\n",
              "      <th>7</th>\n",
              "      <th>8</th>\n",
              "      <th>9</th>\n",
              "      <th>10</th>\n",
              "      <th>11</th>\n",
              "      <th>12</th>\n",
              "      <th>13</th>\n",
              "      <th>14</th>\n",
              "      <th>15</th>\n",
              "      <th>16</th>\n",
              "      <th>17</th>\n",
              "      <th>18</th>\n",
              "      <th>19</th>\n",
              "      <th>20</th>\n",
              "      <th>21</th>\n",
              "      <th>22</th>\n",
              "      <th>23</th>\n",
              "      <th>24</th>\n",
              "      <th>25</th>\n",
              "      <th>26</th>\n",
              "      <th>27</th>\n",
              "      <th>28</th>\n",
              "      <th>29</th>\n",
              "      <th>30</th>\n",
              "      <th>31</th>\n",
              "      <th>32</th>\n",
              "      <th>33</th>\n",
              "      <th>34</th>\n",
              "      <th>35</th>\n",
              "      <th>36</th>\n",
              "      <th>37</th>\n",
              "      <th>38</th>\n",
              "      <th>39</th>\n",
              "      <th>...</th>\n",
              "      <th>7288</th>\n",
              "      <th>7289</th>\n",
              "      <th>7290</th>\n",
              "      <th>7291</th>\n",
              "      <th>7292</th>\n",
              "      <th>7293</th>\n",
              "      <th>7294</th>\n",
              "      <th>7295</th>\n",
              "      <th>7296</th>\n",
              "      <th>7297</th>\n",
              "      <th>7298</th>\n",
              "      <th>7299</th>\n",
              "      <th>7300</th>\n",
              "      <th>7301</th>\n",
              "      <th>7302</th>\n",
              "      <th>7303</th>\n",
              "      <th>7304</th>\n",
              "      <th>7305</th>\n",
              "      <th>7306</th>\n",
              "      <th>7307</th>\n",
              "      <th>7308</th>\n",
              "      <th>7309</th>\n",
              "      <th>7310</th>\n",
              "      <th>7311</th>\n",
              "      <th>7312</th>\n",
              "      <th>7313</th>\n",
              "      <th>7314</th>\n",
              "      <th>7315</th>\n",
              "      <th>7316</th>\n",
              "      <th>7317</th>\n",
              "      <th>7318</th>\n",
              "      <th>7319</th>\n",
              "      <th>7320</th>\n",
              "      <th>7321</th>\n",
              "      <th>7322</th>\n",
              "      <th>7323</th>\n",
              "      <th>7324</th>\n",
              "      <th>7325</th>\n",
              "      <th>npalabras</th>\n",
              "      <th>Espanol</th>\n",
              "    </tr>\n",
              "  </thead>\n",
              "  <tbody>\n",
              "    <tr>\n",
              "      <th>0</th>\n",
              "      <td>0</td>\n",
              "      <td>0</td>\n",
              "      <td>0</td>\n",
              "      <td>0</td>\n",
              "      <td>0</td>\n",
              "      <td>0</td>\n",
              "      <td>0</td>\n",
              "      <td>1</td>\n",
              "      <td>0</td>\n",
              "      <td>0</td>\n",
              "      <td>0</td>\n",
              "      <td>0</td>\n",
              "      <td>0</td>\n",
              "      <td>0</td>\n",
              "      <td>0</td>\n",
              "      <td>0</td>\n",
              "      <td>0</td>\n",
              "      <td>0</td>\n",
              "      <td>0</td>\n",
              "      <td>0</td>\n",
              "      <td>0</td>\n",
              "      <td>0</td>\n",
              "      <td>0</td>\n",
              "      <td>0</td>\n",
              "      <td>0</td>\n",
              "      <td>0</td>\n",
              "      <td>0</td>\n",
              "      <td>0</td>\n",
              "      <td>0</td>\n",
              "      <td>0</td>\n",
              "      <td>0</td>\n",
              "      <td>0</td>\n",
              "      <td>0</td>\n",
              "      <td>0</td>\n",
              "      <td>0</td>\n",
              "      <td>0</td>\n",
              "      <td>0</td>\n",
              "      <td>0</td>\n",
              "      <td>0</td>\n",
              "      <td>0</td>\n",
              "      <td>...</td>\n",
              "      <td>0</td>\n",
              "      <td>0</td>\n",
              "      <td>0</td>\n",
              "      <td>0</td>\n",
              "      <td>0</td>\n",
              "      <td>0</td>\n",
              "      <td>0</td>\n",
              "      <td>0</td>\n",
              "      <td>0</td>\n",
              "      <td>0</td>\n",
              "      <td>0</td>\n",
              "      <td>0</td>\n",
              "      <td>0</td>\n",
              "      <td>0</td>\n",
              "      <td>0</td>\n",
              "      <td>0</td>\n",
              "      <td>0</td>\n",
              "      <td>0</td>\n",
              "      <td>0</td>\n",
              "      <td>0</td>\n",
              "      <td>0</td>\n",
              "      <td>0</td>\n",
              "      <td>0</td>\n",
              "      <td>0</td>\n",
              "      <td>0</td>\n",
              "      <td>0</td>\n",
              "      <td>0</td>\n",
              "      <td>0</td>\n",
              "      <td>0</td>\n",
              "      <td>0</td>\n",
              "      <td>0</td>\n",
              "      <td>0</td>\n",
              "      <td>0</td>\n",
              "      <td>0</td>\n",
              "      <td>0</td>\n",
              "      <td>0</td>\n",
              "      <td>0</td>\n",
              "      <td>0</td>\n",
              "      <td>1287</td>\n",
              "      <td>0</td>\n",
              "    </tr>\n",
              "    <tr>\n",
              "      <th>1</th>\n",
              "      <td>0</td>\n",
              "      <td>0</td>\n",
              "      <td>0</td>\n",
              "      <td>0</td>\n",
              "      <td>1</td>\n",
              "      <td>0</td>\n",
              "      <td>0</td>\n",
              "      <td>0</td>\n",
              "      <td>0</td>\n",
              "      <td>0</td>\n",
              "      <td>0</td>\n",
              "      <td>0</td>\n",
              "      <td>0</td>\n",
              "      <td>1</td>\n",
              "      <td>0</td>\n",
              "      <td>0</td>\n",
              "      <td>0</td>\n",
              "      <td>0</td>\n",
              "      <td>1</td>\n",
              "      <td>0</td>\n",
              "      <td>0</td>\n",
              "      <td>0</td>\n",
              "      <td>0</td>\n",
              "      <td>0</td>\n",
              "      <td>1</td>\n",
              "      <td>0</td>\n",
              "      <td>0</td>\n",
              "      <td>0</td>\n",
              "      <td>0</td>\n",
              "      <td>0</td>\n",
              "      <td>0</td>\n",
              "      <td>0</td>\n",
              "      <td>0</td>\n",
              "      <td>1</td>\n",
              "      <td>0</td>\n",
              "      <td>0</td>\n",
              "      <td>0</td>\n",
              "      <td>0</td>\n",
              "      <td>0</td>\n",
              "      <td>0</td>\n",
              "      <td>...</td>\n",
              "      <td>0</td>\n",
              "      <td>1</td>\n",
              "      <td>0</td>\n",
              "      <td>0</td>\n",
              "      <td>1</td>\n",
              "      <td>9</td>\n",
              "      <td>0</td>\n",
              "      <td>0</td>\n",
              "      <td>0</td>\n",
              "      <td>0</td>\n",
              "      <td>0</td>\n",
              "      <td>0</td>\n",
              "      <td>0</td>\n",
              "      <td>0</td>\n",
              "      <td>0</td>\n",
              "      <td>0</td>\n",
              "      <td>0</td>\n",
              "      <td>3</td>\n",
              "      <td>0</td>\n",
              "      <td>0</td>\n",
              "      <td>0</td>\n",
              "      <td>0</td>\n",
              "      <td>0</td>\n",
              "      <td>0</td>\n",
              "      <td>0</td>\n",
              "      <td>0</td>\n",
              "      <td>1</td>\n",
              "      <td>0</td>\n",
              "      <td>1</td>\n",
              "      <td>0</td>\n",
              "      <td>1</td>\n",
              "      <td>1</td>\n",
              "      <td>1</td>\n",
              "      <td>0</td>\n",
              "      <td>0</td>\n",
              "      <td>0</td>\n",
              "      <td>0</td>\n",
              "      <td>0</td>\n",
              "      <td>1801</td>\n",
              "      <td>1</td>\n",
              "    </tr>\n",
              "    <tr>\n",
              "      <th>2</th>\n",
              "      <td>0</td>\n",
              "      <td>0</td>\n",
              "      <td>1</td>\n",
              "      <td>0</td>\n",
              "      <td>0</td>\n",
              "      <td>0</td>\n",
              "      <td>0</td>\n",
              "      <td>0</td>\n",
              "      <td>0</td>\n",
              "      <td>0</td>\n",
              "      <td>0</td>\n",
              "      <td>0</td>\n",
              "      <td>0</td>\n",
              "      <td>0</td>\n",
              "      <td>0</td>\n",
              "      <td>0</td>\n",
              "      <td>0</td>\n",
              "      <td>0</td>\n",
              "      <td>0</td>\n",
              "      <td>0</td>\n",
              "      <td>0</td>\n",
              "      <td>0</td>\n",
              "      <td>0</td>\n",
              "      <td>0</td>\n",
              "      <td>0</td>\n",
              "      <td>0</td>\n",
              "      <td>0</td>\n",
              "      <td>0</td>\n",
              "      <td>0</td>\n",
              "      <td>0</td>\n",
              "      <td>0</td>\n",
              "      <td>0</td>\n",
              "      <td>0</td>\n",
              "      <td>0</td>\n",
              "      <td>0</td>\n",
              "      <td>0</td>\n",
              "      <td>0</td>\n",
              "      <td>0</td>\n",
              "      <td>0</td>\n",
              "      <td>0</td>\n",
              "      <td>...</td>\n",
              "      <td>0</td>\n",
              "      <td>0</td>\n",
              "      <td>0</td>\n",
              "      <td>0</td>\n",
              "      <td>0</td>\n",
              "      <td>0</td>\n",
              "      <td>0</td>\n",
              "      <td>0</td>\n",
              "      <td>0</td>\n",
              "      <td>0</td>\n",
              "      <td>0</td>\n",
              "      <td>0</td>\n",
              "      <td>0</td>\n",
              "      <td>0</td>\n",
              "      <td>0</td>\n",
              "      <td>0</td>\n",
              "      <td>0</td>\n",
              "      <td>0</td>\n",
              "      <td>0</td>\n",
              "      <td>0</td>\n",
              "      <td>0</td>\n",
              "      <td>0</td>\n",
              "      <td>0</td>\n",
              "      <td>0</td>\n",
              "      <td>0</td>\n",
              "      <td>0</td>\n",
              "      <td>0</td>\n",
              "      <td>0</td>\n",
              "      <td>0</td>\n",
              "      <td>0</td>\n",
              "      <td>0</td>\n",
              "      <td>0</td>\n",
              "      <td>0</td>\n",
              "      <td>0</td>\n",
              "      <td>0</td>\n",
              "      <td>0</td>\n",
              "      <td>0</td>\n",
              "      <td>0</td>\n",
              "      <td>1422</td>\n",
              "      <td>1</td>\n",
              "    </tr>\n",
              "  </tbody>\n",
              "</table>\n",
              "<p>3 rows × 7328 columns</p>\n",
              "</div>"
            ],
            "text/plain": [
              "   0  1  2  3  4  5  6  ...  7321  7322  7323  7324  7325  npalabras  Espanol\n",
              "0  0  0  0  0  0  0  0  ...     0     0     0     0     0       1287        0\n",
              "1  0  0  0  0  1  0  0  ...     0     0     0     0     0       1801        1\n",
              "2  0  0  1  0  0  0  0  ...     0     0     0     0     0       1422        1\n",
              "\n",
              "[3 rows x 7328 columns]"
            ]
          },
          "metadata": {
            "tags": []
          },
          "execution_count": 225
        }
      ]
    },
    {
      "cell_type": "code",
      "metadata": {
        "id": "DtmCOdZN4t7K",
        "colab_type": "code",
        "colab": {}
      },
      "source": [
        "# Selección del train y test\n",
        "X = completo\n",
        "y = tareas.iloc[:,0]"
      ],
      "execution_count": 229,
      "outputs": []
    },
    {
      "cell_type": "code",
      "metadata": {
        "id": "7nKqA-Jpr37k",
        "colab_type": "code",
        "colab": {}
      },
      "source": [
        "# selección del train y test\n",
        "X_train, X_test, y_train, y_test = train_test_split(X, y, test_size=0.3,random_state=42)"
      ],
      "execution_count": 230,
      "outputs": []
    },
    {
      "cell_type": "code",
      "metadata": {
        "id": "kLGGER6svpo6",
        "colab_type": "code",
        "colab": {
          "base_uri": "https://localhost:8080/",
          "height": 153
        },
        "outputId": "15ae141c-bf8a-479c-eb4c-0f4fcb2fed25"
      },
      "source": [
        "# random forest clasifier\n",
        "reg2 = RandomForestClassifier()\n",
        "reg2.fit(X_train, y_train)"
      ],
      "execution_count": 231,
      "outputs": [
        {
          "output_type": "execute_result",
          "data": {
            "text/plain": [
              "RandomForestClassifier(bootstrap=True, ccp_alpha=0.0, class_weight=None,\n",
              "                       criterion='gini', max_depth=None, max_features='auto',\n",
              "                       max_leaf_nodes=None, max_samples=None,\n",
              "                       min_impurity_decrease=0.0, min_impurity_split=None,\n",
              "                       min_samples_leaf=1, min_samples_split=2,\n",
              "                       min_weight_fraction_leaf=0.0, n_estimators=100,\n",
              "                       n_jobs=None, oob_score=False, random_state=None,\n",
              "                       verbose=0, warm_start=False)"
            ]
          },
          "metadata": {
            "tags": []
          },
          "execution_count": 231
        }
      ]
    },
    {
      "cell_type": "code",
      "metadata": {
        "id": "Dcuh2Chx5tGL",
        "colab_type": "code",
        "colab": {
          "base_uri": "https://localhost:8080/",
          "height": 51
        },
        "outputId": "54b566da-4868-4483-e018-497e6b76b5a8"
      },
      "source": [
        "# Modelo randomforest\n",
        "forestVC = RandomForestClassifier(random_state = 1,\n",
        "                                  n_estimators = 750,\n",
        "                                  max_depth = 15, \n",
        "                                  min_samples_split = 5,  min_samples_leaf = 1) \n",
        "modelVC = forestVC.fit(X_train, y_train) \n",
        "y_predVC = modelVC.predict(X_test)"
      ],
      "execution_count": 235,
      "outputs": [
        {
          "output_type": "execute_result",
          "data": {
            "text/plain": [
              "array(['M', 'M', 'M', 'M', 'M', 'M', 'M', 'M', 'M', 'M', 'M', 'M', 'M',\n",
              "       'M'], dtype=object)"
            ]
          },
          "metadata": {
            "tags": []
          },
          "execution_count": 235
        }
      ]
    },
    {
      "cell_type": "code",
      "metadata": {
        "id": "oac9-V4J7fpb",
        "colab_type": "code",
        "colab": {}
      },
      "source": [
        "from sklearn.model_selection import GridSearchCV\n"
      ],
      "execution_count": 236,
      "outputs": []
    },
    {
      "cell_type": "code",
      "metadata": {
        "id": "Iyvgz1sM5jqI",
        "colab_type": "code",
        "colab": {
          "base_uri": "https://localhost:8080/",
          "height": 85
        },
        "outputId": "ba8d8c7b-eed9-4d09-f692-a6881d91b060"
      },
      "source": [
        "# calibración random forest\n",
        "forestVC = RandomForestClassifier()\n",
        "\n",
        "n_estimators1 = [100, 300]#, 500, 800, 1200]\n",
        "max_depth1 = [5, 8]#, 15, 25, 30]\n",
        "min_samples_split1 = [2, 5]#, 10, 15, 100]\n",
        "min_samples_leaf1 = [1, 2]#, 5, 10] \n",
        "max_features1 = [1000, 5000]\n",
        "\n",
        "hyperF = dict(n_estimators = n_estimators1, max_depth = max_depth1,  \n",
        "              min_samples_split = min_samples_split1, \n",
        "             min_samples_leaf = min_samples_leaf1, max_features=max_features1)\n",
        "\n",
        "gridF = GridSearchCV(forestVC, hyperF, cv = 3, verbose = 1, n_jobs = -1)\n",
        "bestF = gridF.fit(X_train, y_train)"
      ],
      "execution_count": 241,
      "outputs": [
        {
          "output_type": "stream",
          "text": [
            "Fitting 3 folds for each of 32 candidates, totalling 96 fits\n"
          ],
          "name": "stdout"
        },
        {
          "output_type": "stream",
          "text": [
            "[Parallel(n_jobs=-1)]: Using backend LokyBackend with 2 concurrent workers.\n",
            "[Parallel(n_jobs=-1)]: Done  46 tasks      | elapsed:   14.1s\n",
            "[Parallel(n_jobs=-1)]: Done  96 out of  96 | elapsed:   29.2s finished\n"
          ],
          "name": "stderr"
        }
      ]
    },
    {
      "cell_type": "code",
      "metadata": {
        "id": "PGRUzGzH85NT",
        "colab_type": "code",
        "colab": {
          "base_uri": "https://localhost:8080/",
          "height": 102
        },
        "outputId": "b58d8e4d-f47d-4bc1-9590-e962b94094fa"
      },
      "source": [
        "gridF.best_params_"
      ],
      "execution_count": 245,
      "outputs": [
        {
          "output_type": "execute_result",
          "data": {
            "text/plain": [
              "{'max_depth': 5,\n",
              " 'max_features': 1000,\n",
              " 'min_samples_leaf': 1,\n",
              " 'min_samples_split': 2,\n",
              " 'n_estimators': 100}"
            ]
          },
          "metadata": {
            "tags": []
          },
          "execution_count": 245
        }
      ]
    },
    {
      "cell_type": "code",
      "metadata": {
        "id": "An9TEO80KRtF",
        "colab_type": "code",
        "colab": {}
      },
      "source": [
        "ForOPT = RandomForestClassifier(max_depth= 5, max_features= 1000, min_samples_leaf= 1, min_samples_split= 2, n_estimators= 100)"
      ],
      "execution_count": 250,
      "outputs": []
    },
    {
      "cell_type": "code",
      "metadata": {
        "id": "Db5L6dLg-qMM",
        "colab_type": "code",
        "colab": {
          "base_uri": "https://localhost:8080/",
          "height": 88
        },
        "outputId": "8df9384c-dc4b-483c-d62c-b7fc13ffb414"
      },
      "source": [
        "cross_val_score(ForOPT, X_test, y_test, cv=5, scoring='accuracy').mean()"
      ],
      "execution_count": 251,
      "outputs": [
        {
          "output_type": "stream",
          "text": [
            "/usr/local/lib/python3.6/dist-packages/sklearn/model_selection/_split.py:667: UserWarning: The least populated class in y has only 3 members, which is less than n_splits=5.\n",
            "  % (min_groups, self.n_splits)), UserWarning)\n"
          ],
          "name": "stderr"
        },
        {
          "output_type": "execute_result",
          "data": {
            "text/plain": [
              "0.8"
            ]
          },
          "metadata": {
            "tags": []
          },
          "execution_count": 251
        }
      ]
    },
    {
      "cell_type": "code",
      "metadata": {
        "id": "qA9BmpCVJvOK",
        "colab_type": "code",
        "colab": {
          "base_uri": "https://localhost:8080/",
          "height": 51
        },
        "outputId": "0271defb-9e31-4cc2-a6d7-36f235e69c6c"
      },
      "source": [
        "y_pred2 = reg2.predict(X_test)\n",
        "y_pred2"
      ],
      "execution_count": 252,
      "outputs": [
        {
          "output_type": "execute_result",
          "data": {
            "text/plain": [
              "array(['M', 'M', 'M', 'M', 'M', 'M', 'M', 'M', 'M', 'M', 'M', 'M', 'M',\n",
              "       'M'], dtype=object)"
            ]
          },
          "metadata": {
            "tags": []
          },
          "execution_count": 252
        }
      ]
    },
    {
      "cell_type": "code",
      "metadata": {
        "id": "2kSDLUMr_hUi",
        "colab_type": "code",
        "colab": {}
      },
      "source": [
        ""
      ],
      "execution_count": null,
      "outputs": []
    },
    {
      "cell_type": "markdown",
      "metadata": {
        "id": "UfA0GkLs4E7c",
        "colab_type": "text"
      },
      "source": [
        "# Exercise 13.4\n",
        "Classify group members into different subgroups (minimum 3) according to a characteristic of your choice."
      ]
    },
    {
      "cell_type": "code",
      "metadata": {
        "id": "qwtw_Tcj4E7d",
        "colab_type": "code",
        "colab": {}
      },
      "source": [
        "# genero, tarea completa, idioma"
      ],
      "execution_count": null,
      "outputs": []
    },
    {
      "cell_type": "markdown",
      "metadata": {
        "id": "RHXV0UMwgalW",
        "colab_type": "text"
      },
      "source": [
        "Para la construcción de los subgrupos, se construyeron tres categorias.\\\n",
        "- Estudiantes que desarrollaron principalmente sus tareas en español o en ingles.\n",
        "- Estudiantes que hicieron las tareas completas por cantidad de palabras que se solicitaban.\n",
        "- Estudiantes que entregaron todas las tareas.\n",
        "\n",
        "A partir de ello se determinaron las medidas estadísticas básicas de cada uno de los grupos, presentadios a continuación.\n"
      ]
    },
    {
      "cell_type": "markdown",
      "metadata": {
        "id": "_5RNiK2ZCVah",
        "colab_type": "text"
      },
      "source": [
        "# Cantidad de palabras esperada"
      ]
    },
    {
      "cell_type": "code",
      "metadata": {
        "id": "eYkuVvpuDT9e",
        "colab_type": "code",
        "colab": {}
      },
      "source": [
        "h = tareas.iloc[:,6]\n",
        "h.head()"
      ],
      "execution_count": null,
      "outputs": []
    },
    {
      "cell_type": "code",
      "metadata": {
        "id": "zP5P-iq8cpus",
        "colab_type": "code",
        "colab": {
          "base_uri": "https://localhost:8080/",
          "height": 88
        },
        "outputId": "bb5c2eca-0a97-48eb-951a-e51457820e44"
      },
      "source": [
        "# promedio de palabras de todos los escritos de los estudiantes\n",
        "LX = []\n",
        "for i in range(len(tareas1)):\n",
        "  x =[]\n",
        "  # función para dividir, por espacios, puntos, etc\n",
        "  x = re.findall(r\"[\\w']+\", h[i])\n",
        "  LX.append(len(x))\n",
        "\n",
        "# total palabras de cada uno de los estudiantes en todas las tareas\n",
        "print(\"La cantidad de palabras escritas por cada uno de los estudiantes\")\n",
        "print(LX)\n",
        "\n",
        "# promedio de palabras de todos los escritos\n",
        "average = sum(LX) / len(LX)\n",
        "print(\"promedio de palabras escritas por los estdiantes: \", average)"
      ],
      "execution_count": 265,
      "outputs": [
        {
          "output_type": "stream",
          "text": [
            "La cantidad de palabras escritas por cada uno de los estudiantes\n",
            "[0, 0, 161, 0, 213, 0, 0, 0, 0, 0, 0, 0, 0, 0, 226, 392, 420, 0, 0, 110, 348, 0, 0, 285, 0, 3, 0, 0, 0, 0, 344, 0, 0, 238, 152, 0, 0, 0, 0, 140, 212, 243, 0, 96, 0, 0]\n",
            "promedio de palabras escritas por los estdiantes:  77.8913043478261\n"
          ],
          "name": "stdout"
        }
      ]
    },
    {
      "cell_type": "markdown",
      "metadata": {
        "id": "hPHamYMeD70F",
        "colab_type": "text"
      },
      "source": [
        "Como una de las subcategorias a usar , quisimos calcular el número total de palabras solicitadas para cumplir con el requisito de las tareas y con esto dividir a los estudianmtes entre los que cumplieron con el requisito o no. Esta division sera llamada tareas_completas, para la cual el criterio a utilizar sera el siguiente : \n",
        "\n",
        "Dado que se tenian 4 tareas de 300 palabras, 1 de 150 y otra con longitud libre, se fijó el valor de cunmplimiento en 1427 palabras utilizando para la última tarea el valor promedio encontrado para esta. De esta manera todo aquel estudiante que tenga un n_palabras tendra mayor o igual al limite fijado(1427)obtendrá un 1 en la columna \"tareas_completas\" y un 0 si no lo cumple. \n"
      ]
    },
    {
      "cell_type": "code",
      "metadata": {
        "id": "dpOc82mrF4hH",
        "colab_type": "code",
        "colab": {
          "base_uri": "https://localhost:8080/",
          "height": 315
        },
        "outputId": "16715c60-b531-4a75-dee3-362d9802434e"
      },
      "source": [
        "# variable de decision tareas_completas\n",
        "min_words=1427\n",
        "\n",
        "Cumple = []\n",
        "for i in range(len(tareas)):\n",
        "  if (tareas['npalabras'][i] < min_words):\n",
        "    Cumple.append(0)\n",
        "  else:\n",
        "    Cumple.append(1)\n",
        "tareas['min_palabras']=Cumple\n",
        "tareas.head(2)"
      ],
      "execution_count": 282,
      "outputs": [
        {
          "output_type": "execute_result",
          "data": {
            "text/html": [
              "<div>\n",
              "<style scoped>\n",
              "    .dataframe tbody tr th:only-of-type {\n",
              "        vertical-align: middle;\n",
              "    }\n",
              "\n",
              "    .dataframe tbody tr th {\n",
              "        vertical-align: top;\n",
              "    }\n",
              "\n",
              "    .dataframe thead th {\n",
              "        text-align: right;\n",
              "    }\n",
              "</style>\n",
              "<table border=\"1\" class=\"dataframe\">\n",
              "  <thead>\n",
              "    <tr style=\"text-align: right;\">\n",
              "      <th></th>\n",
              "      <th>Genero</th>\n",
              "      <th>E1 - Examples of Time Series Analysis</th>\n",
              "      <th>E4 - Panel Data</th>\n",
              "      <th>E6 - Decison Trees</th>\n",
              "      <th>E8 - Ensemble Trees Overview</th>\n",
              "      <th>E10 - REST-API</th>\n",
              "      <th>E11 - Natural Language Processing Overview</th>\n",
              "      <th>texto</th>\n",
              "      <th>npalabras</th>\n",
              "      <th>Idioma_Predominante</th>\n",
              "      <th>min_palabras</th>\n",
              "    </tr>\n",
              "  </thead>\n",
              "  <tbody>\n",
              "    <tr>\n",
              "      <th>0</th>\n",
              "      <td>M</td>\n",
              "      <td>One of the most valuable application of time s...</td>\n",
              "      <td>The main difference between panel data and tim...</td>\n",
              "      <td>Decision tree are a model used by the analytic...</td>\n",
              "      <td>They are used to make a better prediction than...</td>\n",
              "      <td>Es una forma de arquitectura de datos. Los mic...</td>\n",
              "      <td></td>\n",
              "      <td>One of the most valuable application of time s...</td>\n",
              "      <td>1287</td>\n",
              "      <td>en</td>\n",
              "      <td>0</td>\n",
              "    </tr>\n",
              "    <tr>\n",
              "      <th>1</th>\n",
              "      <td>F</td>\n",
              "      <td>ANÁLISIS DE SERIES DE TIEMPO – USOS \\nEl análi...</td>\n",
              "      <td>Series de Tiempo vs Datos en Panel\\nUna serie ...</td>\n",
              "      <td>TIPOS DE ÁRBOLES DE DECISIÓN Y APLICACIONES\\nL...</td>\n",
              "      <td>ENSAMBLAJE EN MACHINE LEARNING\\nLos métodos de...</td>\n",
              "      <td>Microservicios\\nEl objetivo principal de la im...</td>\n",
              "      <td></td>\n",
              "      <td>ANÁLISIS DE SERIES DE TIEMPO – USOS \\nEl análi...</td>\n",
              "      <td>1801</td>\n",
              "      <td>es</td>\n",
              "      <td>1</td>\n",
              "    </tr>\n",
              "  </tbody>\n",
              "</table>\n",
              "</div>"
            ],
            "text/plain": [
              "  Genero  ... min_palabras\n",
              "0      M  ...            0\n",
              "1      F  ...            1\n",
              "\n",
              "[2 rows x 11 columns]"
            ]
          },
          "metadata": {
            "tags": []
          },
          "execution_count": 282
        }
      ]
    },
    {
      "cell_type": "code",
      "metadata": {
        "id": "o5F-adpNFzVJ",
        "colab_type": "code",
        "colab": {
          "base_uri": "https://localhost:8080/",
          "height": 191
        },
        "outputId": "1461ac0e-dbe1-4c96-977e-41f9525ae7c5"
      },
      "source": [
        "completo.head(3)"
      ],
      "execution_count": 271,
      "outputs": [
        {
          "output_type": "execute_result",
          "data": {
            "text/html": [
              "<div>\n",
              "<style scoped>\n",
              "    .dataframe tbody tr th:only-of-type {\n",
              "        vertical-align: middle;\n",
              "    }\n",
              "\n",
              "    .dataframe tbody tr th {\n",
              "        vertical-align: top;\n",
              "    }\n",
              "\n",
              "    .dataframe thead th {\n",
              "        text-align: right;\n",
              "    }\n",
              "</style>\n",
              "<table border=\"1\" class=\"dataframe\">\n",
              "  <thead>\n",
              "    <tr style=\"text-align: right;\">\n",
              "      <th></th>\n",
              "      <th>0</th>\n",
              "      <th>1</th>\n",
              "      <th>2</th>\n",
              "      <th>3</th>\n",
              "      <th>4</th>\n",
              "      <th>5</th>\n",
              "      <th>6</th>\n",
              "      <th>7</th>\n",
              "      <th>8</th>\n",
              "      <th>9</th>\n",
              "      <th>10</th>\n",
              "      <th>11</th>\n",
              "      <th>12</th>\n",
              "      <th>13</th>\n",
              "      <th>14</th>\n",
              "      <th>15</th>\n",
              "      <th>16</th>\n",
              "      <th>17</th>\n",
              "      <th>18</th>\n",
              "      <th>19</th>\n",
              "      <th>20</th>\n",
              "      <th>21</th>\n",
              "      <th>22</th>\n",
              "      <th>23</th>\n",
              "      <th>24</th>\n",
              "      <th>25</th>\n",
              "      <th>26</th>\n",
              "      <th>27</th>\n",
              "      <th>28</th>\n",
              "      <th>29</th>\n",
              "      <th>30</th>\n",
              "      <th>31</th>\n",
              "      <th>32</th>\n",
              "      <th>33</th>\n",
              "      <th>34</th>\n",
              "      <th>35</th>\n",
              "      <th>36</th>\n",
              "      <th>37</th>\n",
              "      <th>38</th>\n",
              "      <th>39</th>\n",
              "      <th>...</th>\n",
              "      <th>7289</th>\n",
              "      <th>7290</th>\n",
              "      <th>7291</th>\n",
              "      <th>7292</th>\n",
              "      <th>7293</th>\n",
              "      <th>7294</th>\n",
              "      <th>7295</th>\n",
              "      <th>7296</th>\n",
              "      <th>7297</th>\n",
              "      <th>7298</th>\n",
              "      <th>7299</th>\n",
              "      <th>7300</th>\n",
              "      <th>7301</th>\n",
              "      <th>7302</th>\n",
              "      <th>7303</th>\n",
              "      <th>7304</th>\n",
              "      <th>7305</th>\n",
              "      <th>7306</th>\n",
              "      <th>7307</th>\n",
              "      <th>7308</th>\n",
              "      <th>7309</th>\n",
              "      <th>7310</th>\n",
              "      <th>7311</th>\n",
              "      <th>7312</th>\n",
              "      <th>7313</th>\n",
              "      <th>7314</th>\n",
              "      <th>7315</th>\n",
              "      <th>7316</th>\n",
              "      <th>7317</th>\n",
              "      <th>7318</th>\n",
              "      <th>7319</th>\n",
              "      <th>7320</th>\n",
              "      <th>7321</th>\n",
              "      <th>7322</th>\n",
              "      <th>7323</th>\n",
              "      <th>7324</th>\n",
              "      <th>7325</th>\n",
              "      <th>npalabras</th>\n",
              "      <th>Espanol</th>\n",
              "      <th>tareas_completas</th>\n",
              "    </tr>\n",
              "  </thead>\n",
              "  <tbody>\n",
              "    <tr>\n",
              "      <th>0</th>\n",
              "      <td>0</td>\n",
              "      <td>0</td>\n",
              "      <td>0</td>\n",
              "      <td>0</td>\n",
              "      <td>0</td>\n",
              "      <td>0</td>\n",
              "      <td>0</td>\n",
              "      <td>1</td>\n",
              "      <td>0</td>\n",
              "      <td>0</td>\n",
              "      <td>0</td>\n",
              "      <td>0</td>\n",
              "      <td>0</td>\n",
              "      <td>0</td>\n",
              "      <td>0</td>\n",
              "      <td>0</td>\n",
              "      <td>0</td>\n",
              "      <td>0</td>\n",
              "      <td>0</td>\n",
              "      <td>0</td>\n",
              "      <td>0</td>\n",
              "      <td>0</td>\n",
              "      <td>0</td>\n",
              "      <td>0</td>\n",
              "      <td>0</td>\n",
              "      <td>0</td>\n",
              "      <td>0</td>\n",
              "      <td>0</td>\n",
              "      <td>0</td>\n",
              "      <td>0</td>\n",
              "      <td>0</td>\n",
              "      <td>0</td>\n",
              "      <td>0</td>\n",
              "      <td>0</td>\n",
              "      <td>0</td>\n",
              "      <td>0</td>\n",
              "      <td>0</td>\n",
              "      <td>0</td>\n",
              "      <td>0</td>\n",
              "      <td>0</td>\n",
              "      <td>...</td>\n",
              "      <td>0</td>\n",
              "      <td>0</td>\n",
              "      <td>0</td>\n",
              "      <td>0</td>\n",
              "      <td>0</td>\n",
              "      <td>0</td>\n",
              "      <td>0</td>\n",
              "      <td>0</td>\n",
              "      <td>0</td>\n",
              "      <td>0</td>\n",
              "      <td>0</td>\n",
              "      <td>0</td>\n",
              "      <td>0</td>\n",
              "      <td>0</td>\n",
              "      <td>0</td>\n",
              "      <td>0</td>\n",
              "      <td>0</td>\n",
              "      <td>0</td>\n",
              "      <td>0</td>\n",
              "      <td>0</td>\n",
              "      <td>0</td>\n",
              "      <td>0</td>\n",
              "      <td>0</td>\n",
              "      <td>0</td>\n",
              "      <td>0</td>\n",
              "      <td>0</td>\n",
              "      <td>0</td>\n",
              "      <td>0</td>\n",
              "      <td>0</td>\n",
              "      <td>0</td>\n",
              "      <td>0</td>\n",
              "      <td>0</td>\n",
              "      <td>0</td>\n",
              "      <td>0</td>\n",
              "      <td>0</td>\n",
              "      <td>0</td>\n",
              "      <td>0</td>\n",
              "      <td>1287</td>\n",
              "      <td>0</td>\n",
              "      <td>1</td>\n",
              "    </tr>\n",
              "    <tr>\n",
              "      <th>1</th>\n",
              "      <td>0</td>\n",
              "      <td>0</td>\n",
              "      <td>0</td>\n",
              "      <td>0</td>\n",
              "      <td>1</td>\n",
              "      <td>0</td>\n",
              "      <td>0</td>\n",
              "      <td>0</td>\n",
              "      <td>0</td>\n",
              "      <td>0</td>\n",
              "      <td>0</td>\n",
              "      <td>0</td>\n",
              "      <td>0</td>\n",
              "      <td>1</td>\n",
              "      <td>0</td>\n",
              "      <td>0</td>\n",
              "      <td>0</td>\n",
              "      <td>0</td>\n",
              "      <td>1</td>\n",
              "      <td>0</td>\n",
              "      <td>0</td>\n",
              "      <td>0</td>\n",
              "      <td>0</td>\n",
              "      <td>0</td>\n",
              "      <td>1</td>\n",
              "      <td>0</td>\n",
              "      <td>0</td>\n",
              "      <td>0</td>\n",
              "      <td>0</td>\n",
              "      <td>0</td>\n",
              "      <td>0</td>\n",
              "      <td>0</td>\n",
              "      <td>0</td>\n",
              "      <td>1</td>\n",
              "      <td>0</td>\n",
              "      <td>0</td>\n",
              "      <td>0</td>\n",
              "      <td>0</td>\n",
              "      <td>0</td>\n",
              "      <td>0</td>\n",
              "      <td>...</td>\n",
              "      <td>1</td>\n",
              "      <td>0</td>\n",
              "      <td>0</td>\n",
              "      <td>1</td>\n",
              "      <td>9</td>\n",
              "      <td>0</td>\n",
              "      <td>0</td>\n",
              "      <td>0</td>\n",
              "      <td>0</td>\n",
              "      <td>0</td>\n",
              "      <td>0</td>\n",
              "      <td>0</td>\n",
              "      <td>0</td>\n",
              "      <td>0</td>\n",
              "      <td>0</td>\n",
              "      <td>0</td>\n",
              "      <td>3</td>\n",
              "      <td>0</td>\n",
              "      <td>0</td>\n",
              "      <td>0</td>\n",
              "      <td>0</td>\n",
              "      <td>0</td>\n",
              "      <td>0</td>\n",
              "      <td>0</td>\n",
              "      <td>0</td>\n",
              "      <td>1</td>\n",
              "      <td>0</td>\n",
              "      <td>1</td>\n",
              "      <td>0</td>\n",
              "      <td>1</td>\n",
              "      <td>1</td>\n",
              "      <td>1</td>\n",
              "      <td>0</td>\n",
              "      <td>0</td>\n",
              "      <td>0</td>\n",
              "      <td>0</td>\n",
              "      <td>0</td>\n",
              "      <td>1801</td>\n",
              "      <td>1</td>\n",
              "      <td>0</td>\n",
              "    </tr>\n",
              "    <tr>\n",
              "      <th>2</th>\n",
              "      <td>0</td>\n",
              "      <td>0</td>\n",
              "      <td>1</td>\n",
              "      <td>0</td>\n",
              "      <td>0</td>\n",
              "      <td>0</td>\n",
              "      <td>0</td>\n",
              "      <td>0</td>\n",
              "      <td>0</td>\n",
              "      <td>0</td>\n",
              "      <td>0</td>\n",
              "      <td>0</td>\n",
              "      <td>0</td>\n",
              "      <td>0</td>\n",
              "      <td>0</td>\n",
              "      <td>0</td>\n",
              "      <td>0</td>\n",
              "      <td>0</td>\n",
              "      <td>0</td>\n",
              "      <td>0</td>\n",
              "      <td>0</td>\n",
              "      <td>0</td>\n",
              "      <td>0</td>\n",
              "      <td>0</td>\n",
              "      <td>0</td>\n",
              "      <td>0</td>\n",
              "      <td>0</td>\n",
              "      <td>0</td>\n",
              "      <td>0</td>\n",
              "      <td>0</td>\n",
              "      <td>0</td>\n",
              "      <td>0</td>\n",
              "      <td>0</td>\n",
              "      <td>0</td>\n",
              "      <td>0</td>\n",
              "      <td>0</td>\n",
              "      <td>0</td>\n",
              "      <td>0</td>\n",
              "      <td>0</td>\n",
              "      <td>0</td>\n",
              "      <td>...</td>\n",
              "      <td>0</td>\n",
              "      <td>0</td>\n",
              "      <td>0</td>\n",
              "      <td>0</td>\n",
              "      <td>0</td>\n",
              "      <td>0</td>\n",
              "      <td>0</td>\n",
              "      <td>0</td>\n",
              "      <td>0</td>\n",
              "      <td>0</td>\n",
              "      <td>0</td>\n",
              "      <td>0</td>\n",
              "      <td>0</td>\n",
              "      <td>0</td>\n",
              "      <td>0</td>\n",
              "      <td>0</td>\n",
              "      <td>0</td>\n",
              "      <td>0</td>\n",
              "      <td>0</td>\n",
              "      <td>0</td>\n",
              "      <td>0</td>\n",
              "      <td>0</td>\n",
              "      <td>0</td>\n",
              "      <td>0</td>\n",
              "      <td>0</td>\n",
              "      <td>0</td>\n",
              "      <td>0</td>\n",
              "      <td>0</td>\n",
              "      <td>0</td>\n",
              "      <td>0</td>\n",
              "      <td>0</td>\n",
              "      <td>0</td>\n",
              "      <td>0</td>\n",
              "      <td>0</td>\n",
              "      <td>0</td>\n",
              "      <td>0</td>\n",
              "      <td>0</td>\n",
              "      <td>1422</td>\n",
              "      <td>1</td>\n",
              "      <td>1</td>\n",
              "    </tr>\n",
              "  </tbody>\n",
              "</table>\n",
              "<p>3 rows × 7329 columns</p>\n",
              "</div>"
            ],
            "text/plain": [
              "   0  1  2  3  4  5  ...  7323  7324  7325  npalabras  Espanol  tareas_completas\n",
              "0  0  0  0  0  0  0  ...     0     0     0       1287        0                 1\n",
              "1  0  0  0  0  1  0  ...     0     0     0       1801        1                 0\n",
              "2  0  0  1  0  0  0  ...     0     0     0       1422        1                 1\n",
              "\n",
              "[3 rows x 7329 columns]"
            ]
          },
          "metadata": {
            "tags": []
          },
          "execution_count": 271
        }
      ]
    },
    {
      "cell_type": "markdown",
      "metadata": {
        "id": "fcTZCJTmhUlf",
        "colab_type": "text"
      },
      "source": [
        "# Distribución de estudiantes por idioma predominante en el desarrollo de las tareas."
      ]
    },
    {
      "cell_type": "code",
      "metadata": {
        "id": "18Q5TqUMKaP1",
        "colab_type": "code",
        "colab": {
          "base_uri": "https://localhost:8080/",
          "height": 173
        },
        "outputId": "1fb03765-84f2-4cdf-a0c3-ac0b4f36b144"
      },
      "source": [
        "# agrupación por genero, descriptiva de cantidad de palabras\n",
        "DF2[['Genero','texto','npalabras','Idioma_Predominante']].groupby(['Idioma_Predominante']).describe(percentiles=[.8,.9,.95,.975])"
      ],
      "execution_count": 277,
      "outputs": [
        {
          "output_type": "execute_result",
          "data": {
            "text/html": [
              "<div>\n",
              "<style scoped>\n",
              "    .dataframe tbody tr th:only-of-type {\n",
              "        vertical-align: middle;\n",
              "    }\n",
              "\n",
              "    .dataframe tbody tr th {\n",
              "        vertical-align: top;\n",
              "    }\n",
              "\n",
              "    .dataframe thead tr th {\n",
              "        text-align: left;\n",
              "    }\n",
              "\n",
              "    .dataframe thead tr:last-of-type th {\n",
              "        text-align: right;\n",
              "    }\n",
              "</style>\n",
              "<table border=\"1\" class=\"dataframe\">\n",
              "  <thead>\n",
              "    <tr>\n",
              "      <th></th>\n",
              "      <th colspan=\"10\" halign=\"left\">npalabras</th>\n",
              "    </tr>\n",
              "    <tr>\n",
              "      <th></th>\n",
              "      <th>count</th>\n",
              "      <th>mean</th>\n",
              "      <th>std</th>\n",
              "      <th>min</th>\n",
              "      <th>50%</th>\n",
              "      <th>80%</th>\n",
              "      <th>90%</th>\n",
              "      <th>95%</th>\n",
              "      <th>97.5%</th>\n",
              "      <th>max</th>\n",
              "    </tr>\n",
              "    <tr>\n",
              "      <th>Idioma_Predominante</th>\n",
              "      <th></th>\n",
              "      <th></th>\n",
              "      <th></th>\n",
              "      <th></th>\n",
              "      <th></th>\n",
              "      <th></th>\n",
              "      <th></th>\n",
              "      <th></th>\n",
              "      <th></th>\n",
              "      <th></th>\n",
              "    </tr>\n",
              "  </thead>\n",
              "  <tbody>\n",
              "    <tr>\n",
              "      <th>en</th>\n",
              "      <td>6.0</td>\n",
              "      <td>1500.000</td>\n",
              "      <td>372.068273</td>\n",
              "      <td>1160.0</td>\n",
              "      <td>1351.5</td>\n",
              "      <td>1776.0</td>\n",
              "      <td>1947.0</td>\n",
              "      <td>2032.5</td>\n",
              "      <td>2075.250</td>\n",
              "      <td>2118.0</td>\n",
              "    </tr>\n",
              "    <tr>\n",
              "      <th>es</th>\n",
              "      <td>40.0</td>\n",
              "      <td>1419.875</td>\n",
              "      <td>433.147407</td>\n",
              "      <td>428.0</td>\n",
              "      <td>1432.0</td>\n",
              "      <td>1709.8</td>\n",
              "      <td>1882.2</td>\n",
              "      <td>1938.2</td>\n",
              "      <td>2418.225</td>\n",
              "      <td>2466.0</td>\n",
              "    </tr>\n",
              "  </tbody>\n",
              "</table>\n",
              "</div>"
            ],
            "text/plain": [
              "                    npalabras                        ...                          \n",
              "                        count      mean         std  ...     95%     97.5%     max\n",
              "Idioma_Predominante                                  ...                          \n",
              "en                        6.0  1500.000  372.068273  ...  2032.5  2075.250  2118.0\n",
              "es                       40.0  1419.875  433.147407  ...  1938.2  2418.225  2466.0\n",
              "\n",
              "[2 rows x 10 columns]"
            ]
          },
          "metadata": {
            "tags": []
          },
          "execution_count": 277
        }
      ]
    },
    {
      "cell_type": "markdown",
      "metadata": {
        "id": "lvRKMDXIhc5I",
        "colab_type": "text"
      },
      "source": [
        "# Distribución de estudiantes por el cumplimiento de la cantidad de palabras requeridas para todas las tareas."
      ]
    },
    {
      "cell_type": "code",
      "metadata": {
        "id": "2gD36Gp0Kmwq",
        "colab_type": "code",
        "colab": {
          "base_uri": "https://localhost:8080/",
          "height": 173
        },
        "outputId": "80808a4f-7d1d-4099-f721-4c7a615e77f1"
      },
      "source": [
        "# agrupación por tarea completa, descriptiva de cantidad de palabras\n",
        "tareas[['Genero','texto','npalabras','Idioma_Predominante','min_palabras']].groupby(['min_palabras']).describe(percentiles=[.8,.9,.95,.975])"
      ],
      "execution_count": 283,
      "outputs": [
        {
          "output_type": "execute_result",
          "data": {
            "text/html": [
              "<div>\n",
              "<style scoped>\n",
              "    .dataframe tbody tr th:only-of-type {\n",
              "        vertical-align: middle;\n",
              "    }\n",
              "\n",
              "    .dataframe tbody tr th {\n",
              "        vertical-align: top;\n",
              "    }\n",
              "\n",
              "    .dataframe thead tr th {\n",
              "        text-align: left;\n",
              "    }\n",
              "\n",
              "    .dataframe thead tr:last-of-type th {\n",
              "        text-align: right;\n",
              "    }\n",
              "</style>\n",
              "<table border=\"1\" class=\"dataframe\">\n",
              "  <thead>\n",
              "    <tr>\n",
              "      <th></th>\n",
              "      <th colspan=\"10\" halign=\"left\">npalabras</th>\n",
              "    </tr>\n",
              "    <tr>\n",
              "      <th></th>\n",
              "      <th>count</th>\n",
              "      <th>mean</th>\n",
              "      <th>std</th>\n",
              "      <th>min</th>\n",
              "      <th>50%</th>\n",
              "      <th>80%</th>\n",
              "      <th>90%</th>\n",
              "      <th>95%</th>\n",
              "      <th>97.5%</th>\n",
              "      <th>max</th>\n",
              "    </tr>\n",
              "    <tr>\n",
              "      <th>min_palabras</th>\n",
              "      <th></th>\n",
              "      <th></th>\n",
              "      <th></th>\n",
              "      <th></th>\n",
              "      <th></th>\n",
              "      <th></th>\n",
              "      <th></th>\n",
              "      <th></th>\n",
              "      <th></th>\n",
              "      <th></th>\n",
              "    </tr>\n",
              "  </thead>\n",
              "  <tbody>\n",
              "    <tr>\n",
              "      <th>0</th>\n",
              "      <td>24.0</td>\n",
              "      <td>1127.416667</td>\n",
              "      <td>282.038992</td>\n",
              "      <td>428.0</td>\n",
              "      <td>1176.0</td>\n",
              "      <td>1352.4</td>\n",
              "      <td>1410.0</td>\n",
              "      <td>1416.00</td>\n",
              "      <td>1418.550</td>\n",
              "      <td>1422.0</td>\n",
              "    </tr>\n",
              "    <tr>\n",
              "      <th>1</th>\n",
              "      <td>22.0</td>\n",
              "      <td>1760.772727</td>\n",
              "      <td>276.782007</td>\n",
              "      <td>1442.0</td>\n",
              "      <td>1686.5</td>\n",
              "      <td>1897.6</td>\n",
              "      <td>2097.5</td>\n",
              "      <td>2402.05</td>\n",
              "      <td>2440.275</td>\n",
              "      <td>2466.0</td>\n",
              "    </tr>\n",
              "  </tbody>\n",
              "</table>\n",
              "</div>"
            ],
            "text/plain": [
              "             npalabras                           ...                           \n",
              "                 count         mean         std  ...      95%     97.5%     max\n",
              "min_palabras                                     ...                           \n",
              "0                 24.0  1127.416667  282.038992  ...  1416.00  1418.550  1422.0\n",
              "1                 22.0  1760.772727  276.782007  ...  2402.05  2440.275  2466.0\n",
              "\n",
              "[2 rows x 10 columns]"
            ]
          },
          "metadata": {
            "tags": []
          },
          "execution_count": 283
        }
      ]
    },
    {
      "cell_type": "markdown",
      "metadata": {
        "id": "j2uszVRuhslJ",
        "colab_type": "text"
      },
      "source": [
        "# Distribución de estudiantes por el cumplimiento en la entrega de todas las tareas."
      ]
    },
    {
      "cell_type": "code",
      "metadata": {
        "id": "sw0XnliGLdAn",
        "colab_type": "code",
        "colab": {
          "base_uri": "https://localhost:8080/",
          "height": 502
        },
        "outputId": "658b0a83-2197-4861-a8e1-e412f6d31bb7"
      },
      "source": [
        "\n",
        "DF5 = tareas.iloc[:,1:7]\n",
        "clmn = list(DF5)\n",
        "\n",
        "Rcumple = []\n",
        "for j in range(DF5.shape[0]):\n",
        "  Ri = []\n",
        "  for i in range(len(clmn)):\n",
        "    if (DF5.iloc[j,i] == \"\"):\n",
        "      Ri.append(1)\n",
        "    else:\n",
        "      Ri.append(0)\n",
        "  Rcumple.append(Ri)\n",
        "\n",
        "SumR=[]\n",
        "for j in range(DF5.shape[0]):\n",
        "  if (sum(Rcumple[j]) == 0):\n",
        "    SumR.append(1)\n",
        "  else:\n",
        "    SumR.append(0)\n",
        "\n",
        "tareas['tareas_completas']=SumR\n",
        "tareas.head(3)"
      ],
      "execution_count": 303,
      "outputs": [
        {
          "output_type": "execute_result",
          "data": {
            "text/html": [
              "<div>\n",
              "<style scoped>\n",
              "    .dataframe tbody tr th:only-of-type {\n",
              "        vertical-align: middle;\n",
              "    }\n",
              "\n",
              "    .dataframe tbody tr th {\n",
              "        vertical-align: top;\n",
              "    }\n",
              "\n",
              "    .dataframe thead th {\n",
              "        text-align: right;\n",
              "    }\n",
              "</style>\n",
              "<table border=\"1\" class=\"dataframe\">\n",
              "  <thead>\n",
              "    <tr style=\"text-align: right;\">\n",
              "      <th></th>\n",
              "      <th>Genero</th>\n",
              "      <th>E1 - Examples of Time Series Analysis</th>\n",
              "      <th>E4 - Panel Data</th>\n",
              "      <th>E6 - Decison Trees</th>\n",
              "      <th>E8 - Ensemble Trees Overview</th>\n",
              "      <th>E10 - REST-API</th>\n",
              "      <th>E11 - Natural Language Processing Overview</th>\n",
              "      <th>texto</th>\n",
              "      <th>npalabras</th>\n",
              "      <th>Idioma_Predominante</th>\n",
              "      <th>min_palabras</th>\n",
              "      <th>tareas_completas</th>\n",
              "    </tr>\n",
              "  </thead>\n",
              "  <tbody>\n",
              "    <tr>\n",
              "      <th>0</th>\n",
              "      <td>M</td>\n",
              "      <td>One of the most valuable application of time s...</td>\n",
              "      <td>The main difference between panel data and tim...</td>\n",
              "      <td>Decision tree are a model used by the analytic...</td>\n",
              "      <td>They are used to make a better prediction than...</td>\n",
              "      <td>Es una forma de arquitectura de datos. Los mic...</td>\n",
              "      <td></td>\n",
              "      <td>One of the most valuable application of time s...</td>\n",
              "      <td>1287</td>\n",
              "      <td>en</td>\n",
              "      <td>0</td>\n",
              "      <td>0</td>\n",
              "    </tr>\n",
              "    <tr>\n",
              "      <th>1</th>\n",
              "      <td>F</td>\n",
              "      <td>ANÁLISIS DE SERIES DE TIEMPO – USOS \\nEl análi...</td>\n",
              "      <td>Series de Tiempo vs Datos en Panel\\nUna serie ...</td>\n",
              "      <td>TIPOS DE ÁRBOLES DE DECISIÓN Y APLICACIONES\\nL...</td>\n",
              "      <td>ENSAMBLAJE EN MACHINE LEARNING\\nLos métodos de...</td>\n",
              "      <td>Microservicios\\nEl objetivo principal de la im...</td>\n",
              "      <td></td>\n",
              "      <td>ANÁLISIS DE SERIES DE TIEMPO – USOS \\nEl análi...</td>\n",
              "      <td>1801</td>\n",
              "      <td>es</td>\n",
              "      <td>1</td>\n",
              "      <td>0</td>\n",
              "    </tr>\n",
              "    <tr>\n",
              "      <th>2</th>\n",
              "      <td>M</td>\n",
              "      <td>Una serie de tiempo es una colección de datos ...</td>\n",
              "      <td></td>\n",
              "      <td>los arboles de decisión hacen parte de los alg...</td>\n",
              "      <td>Ensemble methods is a machine learning techniq...</td>\n",
              "      <td>El enfoque tradicional para el diseño de aplic...</td>\n",
              "      <td>LexisNexis launched Lexis Analytics, a legal r...</td>\n",
              "      <td>Una serie de tiempo es una colección de datos ...</td>\n",
              "      <td>1422</td>\n",
              "      <td>es</td>\n",
              "      <td>0</td>\n",
              "      <td>0</td>\n",
              "    </tr>\n",
              "  </tbody>\n",
              "</table>\n",
              "</div>"
            ],
            "text/plain": [
              "  Genero  ... tareas_completas\n",
              "0      M  ...                0\n",
              "1      F  ...                0\n",
              "2      M  ...                0\n",
              "\n",
              "[3 rows x 12 columns]"
            ]
          },
          "metadata": {
            "tags": []
          },
          "execution_count": 303
        }
      ]
    },
    {
      "cell_type": "code",
      "metadata": {
        "id": "cA1r_7QVNzLB",
        "colab_type": "code",
        "colab": {
          "base_uri": "https://localhost:8080/",
          "height": 193
        },
        "outputId": "56d55f6a-4160-464a-f025-40c875f50148"
      },
      "source": [
        "# agrupación por tarea completa, descriptiva de cantidad de palabras\n",
        "tareas[['Genero','texto','npalabras','Idioma_Predominante','min_palabras','tareas_completas']].groupby(['tareas_completas']).describe(percentiles=[.8,.9,.95,.975])"
      ],
      "execution_count": 304,
      "outputs": [
        {
          "output_type": "execute_result",
          "data": {
            "text/html": [
              "<div>\n",
              "<style scoped>\n",
              "    .dataframe tbody tr th:only-of-type {\n",
              "        vertical-align: middle;\n",
              "    }\n",
              "\n",
              "    .dataframe tbody tr th {\n",
              "        vertical-align: top;\n",
              "    }\n",
              "\n",
              "    .dataframe thead tr th {\n",
              "        text-align: left;\n",
              "    }\n",
              "\n",
              "    .dataframe thead tr:last-of-type th {\n",
              "        text-align: right;\n",
              "    }\n",
              "</style>\n",
              "<table border=\"1\" class=\"dataframe\">\n",
              "  <thead>\n",
              "    <tr>\n",
              "      <th></th>\n",
              "      <th colspan=\"10\" halign=\"left\">npalabras</th>\n",
              "      <th colspan=\"10\" halign=\"left\">min_palabras</th>\n",
              "    </tr>\n",
              "    <tr>\n",
              "      <th></th>\n",
              "      <th>count</th>\n",
              "      <th>mean</th>\n",
              "      <th>std</th>\n",
              "      <th>min</th>\n",
              "      <th>50%</th>\n",
              "      <th>80%</th>\n",
              "      <th>90%</th>\n",
              "      <th>95%</th>\n",
              "      <th>97.5%</th>\n",
              "      <th>max</th>\n",
              "      <th>count</th>\n",
              "      <th>mean</th>\n",
              "      <th>std</th>\n",
              "      <th>min</th>\n",
              "      <th>50%</th>\n",
              "      <th>80%</th>\n",
              "      <th>90%</th>\n",
              "      <th>95%</th>\n",
              "      <th>97.5%</th>\n",
              "      <th>max</th>\n",
              "    </tr>\n",
              "    <tr>\n",
              "      <th>tareas_completas</th>\n",
              "      <th></th>\n",
              "      <th></th>\n",
              "      <th></th>\n",
              "      <th></th>\n",
              "      <th></th>\n",
              "      <th></th>\n",
              "      <th></th>\n",
              "      <th></th>\n",
              "      <th></th>\n",
              "      <th></th>\n",
              "      <th></th>\n",
              "      <th></th>\n",
              "      <th></th>\n",
              "      <th></th>\n",
              "      <th></th>\n",
              "      <th></th>\n",
              "      <th></th>\n",
              "      <th></th>\n",
              "      <th></th>\n",
              "      <th></th>\n",
              "    </tr>\n",
              "  </thead>\n",
              "  <tbody>\n",
              "    <tr>\n",
              "      <th>0</th>\n",
              "      <td>33.0</td>\n",
              "      <td>1283.060606</td>\n",
              "      <td>342.795761</td>\n",
              "      <td>428.0</td>\n",
              "      <td>1303.0</td>\n",
              "      <td>1536.8</td>\n",
              "      <td>1690.2</td>\n",
              "      <td>1769.4</td>\n",
              "      <td>1781.0</td>\n",
              "      <td>1801.0</td>\n",
              "      <td>33.0</td>\n",
              "      <td>0.333333</td>\n",
              "      <td>0.478714</td>\n",
              "      <td>0.0</td>\n",
              "      <td>0.0</td>\n",
              "      <td>1.0</td>\n",
              "      <td>1.0</td>\n",
              "      <td>1.0</td>\n",
              "      <td>1.0</td>\n",
              "      <td>1.0</td>\n",
              "    </tr>\n",
              "    <tr>\n",
              "      <th>1</th>\n",
              "      <td>13.0</td>\n",
              "      <td>1804.153846</td>\n",
              "      <td>381.886293</td>\n",
              "      <td>1106.0</td>\n",
              "      <td>1811.0</td>\n",
              "      <td>2036.0</td>\n",
              "      <td>2357.2</td>\n",
              "      <td>2436.6</td>\n",
              "      <td>2451.3</td>\n",
              "      <td>2466.0</td>\n",
              "      <td>13.0</td>\n",
              "      <td>0.846154</td>\n",
              "      <td>0.375534</td>\n",
              "      <td>0.0</td>\n",
              "      <td>1.0</td>\n",
              "      <td>1.0</td>\n",
              "      <td>1.0</td>\n",
              "      <td>1.0</td>\n",
              "      <td>1.0</td>\n",
              "      <td>1.0</td>\n",
              "    </tr>\n",
              "  </tbody>\n",
              "</table>\n",
              "</div>"
            ],
            "text/plain": [
              "                 npalabras                           ... min_palabras           \n",
              "                     count         mean         std  ...          95% 97.5%  max\n",
              "tareas_completas                                     ...                        \n",
              "0                     33.0  1283.060606  342.795761  ...          1.0   1.0  1.0\n",
              "1                     13.0  1804.153846  381.886293  ...          1.0   1.0  1.0\n",
              "\n",
              "[2 rows x 20 columns]"
            ]
          },
          "metadata": {
            "tags": []
          },
          "execution_count": 304
        }
      ]
    },
    {
      "cell_type": "code",
      "metadata": {
        "id": "lKNSwK1uN73o",
        "colab_type": "code",
        "colab": {}
      },
      "source": [
        ""
      ],
      "execution_count": null,
      "outputs": []
    }
  ]
}