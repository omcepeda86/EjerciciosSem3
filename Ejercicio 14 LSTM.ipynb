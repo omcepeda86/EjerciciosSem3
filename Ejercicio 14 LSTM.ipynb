{
 "cells": [
  {
   "cell_type": "markdown",
   "metadata": {},
   "source": [
    "Camilo Angarita 201111642\\\n",
    "Julian Velasquez 201014210\\\n",
    "Oscar Mauricio Cepeda 201123181\\\n",
    "Juan Camilo Marín 201412568"
   ]
  },
  {
   "cell_type": "markdown",
   "metadata": {},
   "source": [
    "# Exercise 14\n",
    "\n",
    "## Predict rating using LSTM\n"
   ]
  },
  {
   "cell_type": "code",
   "execution_count": 4,
   "metadata": {},
   "outputs": [],
   "source": [
    "from sklearn.feature_extraction.text import CountVectorizer\n",
    "import pandas as pd"
   ]
  },
  {
   "cell_type": "code",
   "execution_count": 5,
   "metadata": {},
   "outputs": [],
   "source": [
    "dataTraining = pd.read_csv('https://github.com/albahnsen/AdvancedMethodsDataAnalysisClass/raw/master/datasets/dataTraining.zip', encoding='UTF-8', index_col=0)"
   ]
  },
  {
   "cell_type": "code",
   "execution_count": 6,
   "metadata": {},
   "outputs": [],
   "source": [
    "plots = dataTraining['plot']\n",
    "y = (dataTraining['rating'] >= dataTraining['rating'].mean()).astype(int)"
   ]
  },
  {
   "cell_type": "code",
   "execution_count": 7,
   "metadata": {},
   "outputs": [
    {
     "data": {
      "text/plain": [
       "3107    most is the story of a single father who takes...\n",
       "900     a serial killer decides to teach the secrets o...\n",
       "6724    in sweden ,  a female blackmailer with a disfi...\n",
       "4704    in a friday afternoon in new york ,  the presi...\n",
       "2582    in los angeles ,  the editor of a publishing h...\n",
       "                              ...                        \n",
       "8417    \" our marriage ,  their wedding .  \"  it ' s l...\n",
       "1592    the wandering barbarian ,  conan ,  alongside ...\n",
       "1723    like a tale spun by scheherazade ,  kismet fol...\n",
       "7605    mrs .  brisby ,  a widowed mouse ,  lives in a...\n",
       "215     tinker bell journey far north of never land to...\n",
       "Name: plot, Length: 7895, dtype: object"
      ]
     },
     "execution_count": 7,
     "metadata": {},
     "output_type": "execute_result"
    }
   ],
   "source": [
    "plots"
   ]
  },
  {
   "cell_type": "code",
   "execution_count": 8,
   "metadata": {},
   "outputs": [
    {
     "data": {
      "text/plain": [
       "3107    1\n",
       "900     0\n",
       "6724    1\n",
       "4704    1\n",
       "2582    1\n",
       "       ..\n",
       "8417    0\n",
       "1592    0\n",
       "1723    0\n",
       "7605    1\n",
       "215     1\n",
       "Name: rating, Length: 7895, dtype: int64"
      ]
     },
     "execution_count": 8,
     "metadata": {},
     "output_type": "execute_result"
    }
   ],
   "source": [
    "y"
   ]
  },
  {
   "cell_type": "markdown",
   "metadata": {},
   "source": [
    "# Exercise 14.1\n",
    "\n",
    "- Remove stopwords \n",
    "- Lowercase\n",
    "- split the text in words \n",
    "- pad_sequences"
   ]
  },
  {
   "cell_type": "code",
   "execution_count": 11,
   "metadata": {},
   "outputs": [],
   "source": [
    "import keras\n",
    "from keras import backend as K\n",
    "from keras.models import Sequential\n",
    "from keras.layers.recurrent import LSTM\n",
    "from keras.layers.core import Dense, Dropout\n",
    "from keras.layers.embeddings import Embedding\n",
    "from keras.preprocessing import sequence\n",
    "from keras.layers import Flatten\n",
    "import tensorflow as tf"
   ]
  },
  {
   "cell_type": "code",
   "execution_count": 12,
   "metadata": {},
   "outputs": [
    {
     "data": {
      "text/plain": [
       "(7895, 1000)"
      ]
     },
     "execution_count": 12,
     "metadata": {},
     "output_type": "execute_result"
    }
   ],
   "source": [
    "vect = CountVectorizer(   ngram_range=(1,4) , stop_words= \"english\"   , max_features = 1000)\n",
    "X_dtm = vect.fit_transform(plots)\n",
    "X_dtm.shape"
   ]
  },
  {
   "cell_type": "code",
   "execution_count": 13,
   "metadata": {},
   "outputs": [],
   "source": [
    "plot_split  =  plots.str.split(\" \")\n",
    "\n",
    "words = list(vect.vocabulary_.keys())\n",
    "words\n",
    "vocabulary = {x: idx + 1 for idx, x in enumerate(set(words))}\n",
    "vocabulary\n",
    "\n",
    "#aplicarle el codigo a lo que yo quiero codificar \n",
    "max_len = 400\n",
    "plot_split = [x[:max_len] for x in plot_split]\n",
    "#Convert characters to int and pad\n",
    "plot_split = [[vocabulary[x1] for x1 in x if x1 in vocabulary.keys()] for x in plot_split]\n",
    "plot_pad = sequence.pad_sequences(plot_split, maxlen=max_len)"
   ]
  },
  {
   "cell_type": "markdown",
   "metadata": {},
   "source": [
    "# Exercise 14.2\n",
    "\n",
    "Create a LSTM neural network to predict the rating of a movie\n",
    "\n",
    "Calculate the testing set accuracy"
   ]
  },
  {
   "cell_type": "code",
   "execution_count": 14,
   "metadata": {},
   "outputs": [],
   "source": [
    "from livelossplot import PlotLossesKeras\n",
    "%matplotlib inline\n",
    "from sklearn.model_selection import train_test_split"
   ]
  },
  {
   "cell_type": "code",
   "execution_count": 15,
   "metadata": {},
   "outputs": [],
   "source": [
    "X_train, X_test, y_train, y_test = train_test_split(plot_pad, y, test_size=0.33, random_state=42)"
   ]
  },
  {
   "cell_type": "code",
   "execution_count": 16,
   "metadata": {},
   "outputs": [
    {
     "name": "stdout",
     "output_type": "stream",
     "text": [
      "Model: \"sequential_2\"\n",
      "_________________________________________________________________\n",
      "Layer (type)                 Output Shape              Param #   \n",
      "=================================================================\n",
      "embedding_1 (Embedding)      (None, 400, 128)          128128    \n",
      "_________________________________________________________________\n",
      "lstm_1 (LSTM)                (None, 64)                49408     \n",
      "_________________________________________________________________\n",
      "dropout_1 (Dropout)          (None, 64)                0         \n",
      "_________________________________________________________________\n",
      "dense_1 (Dense)              (None, 1)                 65        \n",
      "=================================================================\n",
      "Total params: 177,601\n",
      "Trainable params: 177,601\n",
      "Non-trainable params: 0\n",
      "_________________________________________________________________\n"
     ]
    }
   ],
   "source": [
    "model = Sequential()\n",
    "model.add(Embedding(len(vocabulary) + 1, 128, input_length=max_len))\n",
    "model.add(LSTM(64))\n",
    "model.add(Dropout(0.5))\n",
    "model.add(Dense(1, activation='sigmoid'))\n",
    "model.compile(loss='binary_crossentropy', optimizer='adam', metrics=['accuracy'])\n",
    "\n",
    "model.summary()   "
   ]
  },
  {
   "cell_type": "code",
   "execution_count": 17,
   "metadata": {},
   "outputs": [
    {
     "data": {
      "image/png": "[encoded data removed]",
      "text/plain": [
       "<Figure size 864x576 with 2 Axes>"
      ]
     },
     "metadata": {
      "needs_background": "light"
     },
     "output_type": "display_data"
    },
    {
     "name": "stdout",
     "output_type": "stream",
     "text": [
      "accuracy\n",
      "\tvalidation       \t (min:    0.584, max:    0.610, cur:    0.587)\n",
      "\ttraining         \t (min:    0.557, max:    0.843, cur:    0.843)\n",
      "Loss\n",
      "\tvalidation       \t (min:    0.655, max:    0.989, cur:    0.989)\n",
      "\ttraining         \t (min:    0.366, max:    0.683, cur:    0.366)\n"
     ]
    },
    {
     "data": {
      "text/plain": [
       "<keras.callbacks.callbacks.History at 0x7f816986f950>"
      ]
     },
     "execution_count": 17,
     "metadata": {},
     "output_type": "execute_result"
    }
   ],
   "source": [
    "model.fit(X_train, y_train, validation_data=[X_test, y_test], \n",
    "          batch_size=128, epochs=10, verbose=1,\n",
    "          callbacks=[PlotLossesKeras()])"
   ]
  },
  {
   "cell_type": "code",
   "execution_count": 18,
   "metadata": {},
   "outputs": [
    {
     "name": "stdout",
     "output_type": "stream",
     "text": [
      "0.5874904067536454\n"
     ]
    }
   ],
   "source": [
    "y_pred = model.predict_classes(X_test)[:,0]\n",
    "\n",
    "print((y_pred == y_test).mean())"
   ]
  },
  {
   "cell_type": "markdown",
   "metadata": {},
   "source": [
    "Mediante el uso de pad sequences se logro codificar cada una de las las palabras clave de las sinopsis para lograr asi un modelo numerico que puediera ser ingresado en una red neuronal. \n",
    "\n",
    "La primera aproximación al modelo brinda un nivel de accuracy del 0.58, sin embargo logra integrar ya el texto de las peliculas para hacer un pronostico,con mayor calibración y procesamiento computacional se lograria obtener un desempeño mucho mas alto. \n"
   ]
  },
  {
   "cell_type": "code",
   "execution_count": null,
   "metadata": {},
   "outputs": [],
   "source": []
  }
 ],
 "metadata": {
  "kernelspec": {
   "display_name": "Python 3",
   "language": "python",
   "name": "python3"
  },
  "language_info": {
   "codemirror_mode": {
    "name": "ipython",
    "version": 3
   },
   "file_extension": ".py",
   "mimetype": "text/x-python",
   "name": "python",
   "nbconvert_exporter": "python",
   "pygments_lexer": "ipython3",
   "version": "3.7.4"
  }
 },
 "nbformat": 4,
 "nbformat_minor": 4
}
